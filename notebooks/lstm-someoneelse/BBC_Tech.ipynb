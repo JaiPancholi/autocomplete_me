{
 "cells": [
  {
   "cell_type": "markdown",
   "metadata": {
    "colab_type": "text",
    "id": "jRwiWNu6INq5"
   },
   "source": [
    "# Setup"
   ]
  },
  {
   "cell_type": "markdown",
   "metadata": {
    "colab_type": "text",
    "id": "v5LjiPvdBUHV"
   },
   "source": [
    "## Google Only"
   ]
  },
  {
   "cell_type": "code",
   "execution_count": 21,
   "metadata": {
    "colab": {
     "base_uri": "https://localhost:8080/",
     "height": 54
    },
    "colab_type": "code",
    "id": "xjSCr2_-BUHW",
    "outputId": "7c01d08a-7ea6-4fa2-e390-d661f3278b56"
   },
   "outputs": [
    {
     "name": "stdout",
     "output_type": "stream",
     "text": [
      "Drive already mounted at /content/drive; to attempt to forcibly remount, call drive.mount(\"/content/drive\", force_remount=True).\n"
     ]
    }
   ],
   "source": [
    "from google.colab import drive\n",
    "drive.mount('/content/drive')"
   ]
  },
  {
   "cell_type": "code",
   "execution_count": 22,
   "metadata": {
    "colab": {},
    "colab_type": "code",
    "id": "zAJzt-moBUHc"
   },
   "outputs": [],
   "source": [
    "import os\n",
    "import sys\n",
    "sys.path.append(os.path.dirname(os.path.abspath('')))\n",
    "sys.path.append('/content/drive/My Drive/Code/autocomplete_me')"
   ]
  },
  {
   "cell_type": "code",
   "execution_count": 23,
   "metadata": {
    "colab": {
     "base_uri": "https://localhost:8080/",
     "height": 119
    },
    "colab_type": "code",
    "id": "PJSU55j3H7oY",
    "outputId": "7221dda9-cedd-4a87-b731-ec561647399f"
   },
   "outputs": [
    {
     "name": "stdout",
     "output_type": "stream",
     "text": [
      "total 17\n",
      "4 drwx------ 3 root root 4096 Jul 11 13:00 data\n",
      "4 drwx------ 2 root root 4096 Jul 11 13:26 models\n",
      "4 drwx------ 2 root root 4096 Jul 11 13:01 notebooks\n",
      "1 -rw------- 1 root root   57 Jul 11 08:44 requirements.txt\n",
      "4 drwx------ 3 root root 4096 Jul 11 13:00 src\n"
     ]
    }
   ],
   "source": [
    "!ls -ls '/content/drive/My Drive/Code/autocomplete_me'"
   ]
  },
  {
   "cell_type": "code",
   "execution_count": 24,
   "metadata": {
    "colab": {},
    "colab_type": "code",
    "id": "Q94gYQGGBUHe"
   },
   "outputs": [],
   "source": [
    "from src import utils, reader, predict_utils"
   ]
  },
  {
   "cell_type": "code",
   "execution_count": 5,
   "metadata": {
    "colab": {
     "base_uri": "https://localhost:8080/",
     "height": 34
    },
    "colab_type": "code",
    "id": "UK5LK2ohBUHg",
    "outputId": "544d12fd-37d8-42d9-8008-aea52704b4fc"
   },
   "outputs": [
    {
     "data": {
      "text/plain": [
       "<module 'src.predict_utils' from '/content/drive/My Drive/Code/autocomplete_me/src/predict_utils.py'>"
      ]
     },
     "execution_count": 5,
     "metadata": {
      "tags": []
     },
     "output_type": "execute_result"
    }
   ],
   "source": [
    "from importlib import reload\n",
    "reload(utils)\n",
    "reload(reader)\n",
    "reload(predict_utils)"
   ]
  },
  {
   "cell_type": "markdown",
   "metadata": {
    "colab_type": "text",
    "id": "z2i_aQqeF444"
   },
   "source": [
    "# Build Model"
   ]
  },
  {
   "cell_type": "code",
   "execution_count": 25,
   "metadata": {
    "colab": {},
    "colab_type": "code",
    "id": "bGdkdzSeBUHn"
   },
   "outputs": [],
   "source": [
    "text = reader.read_bbc_tech()\n",
    "content_type = 'BBC-tech'"
   ]
  },
  {
   "cell_type": "code",
   "execution_count": 10,
   "metadata": {
    "colab": {
     "base_uri": "https://localhost:8080/",
     "height": 171
    },
    "colab_type": "code",
    "id": "zFB5H3BdLHAj",
    "outputId": "1deb26e5-4a54-49b0-f86b-cdcd7b14a88e"
   },
   "outputs": [
    {
     "data": {
      "application/vnd.google.colaboratory.intrinsic": {
       "type": "string"
      },
      "text/plain": [
       "'US duo in first spam conviction\\n\\nA brother and sister in the US have been convicted of sending hundreds of thousands of unsolicited e-mail messages to AOL subscribers.\\n\\nIt is the first criminal prosecution of internet spam distributors. Jurors in Virginia recommended that the man, Jeremy Jaynes, serve nine years in prison and that his sister, Jessica DeGroot, be fined $7,500. They were convicted under a state law that bars the sending of bulk e-mails using fake addresses.\\n\\nThey will be formally sentenced next year. A third defendant, Richard Rutkowski, was acquitted. Prosecutors said Jaynes was \"a snake oil salesman in a new format\", using the internet to peddle useless wares, news agency Associated Press reported. A \"Fed-Ex refund processor\" was supposed to allow people to earn $75 an hour working from home. Another item on sale was an \"internet history eraser\". His sister helped him process credit card payments. Jaynes amassed a fortune of $24m from his sales, prosecutors said. \"He\\'s been successful ripping people off all these years,\" AP quoted prosecutor Russell McGuire as saying. Jaynes was also found guilty of breaking a state law which prohibits the sending of more than 100,000 e-mails in 30 days, Virginia State Attorney General Jerry Kilgore reportedly said. Prosecutors had asked for 15 years in jail for Jaynes, and a jail term for his sister. But Jaynes\\' lawyer David Oblon called the nine-year recommended term \"outrageous\" and said his client believed he was innocent. He pointed out that all three of the accused lived in North Carolina and were unaware of the Virginia state law. Spam messages are estimated to account for at least 60% of all e-mails sent.\\n'"
      ]
     },
     "execution_count": 10,
     "metadata": {
      "tags": []
     },
     "output_type": "execute_result"
    }
   ],
   "source": [
    "text[0]"
   ]
  },
  {
   "cell_type": "markdown",
   "metadata": {
    "colab_type": "text",
    "id": "t6ACaCZLF9wP"
   },
   "source": [
    "## Training"
   ]
  },
  {
   "cell_type": "markdown",
   "metadata": {
    "colab_type": "text",
    "id": "82o452gPmCxw"
   },
   "source": [
    "### Long Text"
   ]
  },
  {
   "cell_type": "code",
   "execution_count": 11,
   "metadata": {
    "colab": {
     "base_uri": "https://localhost:8080/",
     "height": 51
    },
    "colab_type": "code",
    "id": "rE3FbA3KBUHp",
    "outputId": "1af228a0-7b57-488a-b0cf-9a6ccb414062"
   },
   "outputs": [
    {
     "name": "stdout",
     "output_type": "stream",
     "text": [
      "There are 15491 unique words.\n",
      "There are 199462 sequences.\n"
     ]
    }
   ],
   "source": [
    "training_dict, word_idx, idx_word, sequences, num_words = utils.get_data(text)"
   ]
  },
  {
   "cell_type": "code",
   "execution_count": 12,
   "metadata": {
    "colab": {
     "base_uri": "https://localhost:8080/",
     "height": 326
    },
    "colab_type": "code",
    "id": "WkarC33qBUHs",
    "outputId": "7706d5f4-f6df-411a-cffa-cc33d08d9222"
   },
   "outputs": [
    {
     "name": "stdout",
     "output_type": "stream",
     "text": [
      "Glove Vectors loading with dimension 100\n",
      "There were 5692 words without pre-trained embeddings.\n"
     ]
    },
    {
     "name": "stderr",
     "output_type": "stream",
     "text": [
      "/content/drive/My Drive/Code/autocomplete_me/src/utils.py:180: RuntimeWarning: invalid value encountered in true_divide\n",
      "  embedding_matrix = embedding_matrix / np.linalg.norm(embedding_matrix, axis=1).reshape((-1, 1))\n"
     ]
    },
    {
     "data": {
      "text/plain": [
       "array([[ 0.        ,  0.        ,  0.        , ...,  0.        ,\n",
       "         0.        ,  0.        ],\n",
       "       [-0.00656124, -0.04206555,  0.12508174, ..., -0.02506376,\n",
       "         0.14220549,  0.04648907],\n",
       "       [-0.06223089,  0.03835242,  0.08488411, ..., -0.04284497,\n",
       "         0.08662399, -0.00527513],\n",
       "       ...,\n",
       "       [-0.00346489, -0.08874972, -0.20891733, ...,  0.09497839,\n",
       "        -0.12697276, -0.08340222],\n",
       "       [-0.02349926, -0.06641477, -0.01852101, ...,  0.07821092,\n",
       "         0.12694902,  0.1010958 ],\n",
       "       [ 0.02721107,  0.00886596,  0.24643607, ...,  0.02826212,\n",
       "         0.23311737,  0.06475616]])"
      ]
     },
     "execution_count": 12,
     "metadata": {
      "tags": []
     },
     "output_type": "execute_result"
    }
   ],
   "source": [
    "# embedding_matrix = utils.create_embedding_matrix(word_idx, num_words, '/Users/jaipancholi/data/glove.6B.100d.txt')\n",
    "embedding_matrix = utils.create_embedding_matrix(word_idx, num_words, '/content/drive/My Drive/Code/autocomplete_me/data/glove.6B.100d.txt')\n",
    "embedding_matrix"
   ]
  },
  {
   "cell_type": "markdown",
   "metadata": {
    "colab_type": "text",
    "id": "7drfu504BUHu"
   },
   "source": [
    "#### Unidirectional, 1 layer, Untrainable"
   ]
  },
  {
   "cell_type": "code",
   "execution_count": 13,
   "metadata": {
    "colab": {},
    "colab_type": "code",
    "id": "huLhy89XBUHu"
   },
   "outputs": [],
   "source": [
    "model = utils.make_word_level_model(\n",
    "    num_words,\n",
    "    embedding_matrix,\n",
    "    lstm_cells=64,\n",
    "    trainable=False,\n",
    "    lstm_layers=1,\n",
    "    bi_direc=False\n",
    ")"
   ]
  },
  {
   "cell_type": "code",
   "execution_count": 14,
   "metadata": {
    "colab": {
     "base_uri": "https://localhost:8080/",
     "height": 357
    },
    "colab_type": "code",
    "id": "lx54HkS-Hq3f",
    "outputId": "95ba6683-010b-4f6e-9d5a-9193dde557f2"
   },
   "outputs": [
    {
     "name": "stdout",
     "output_type": "stream",
     "text": [
      "Model: \"sequential_1\"\n",
      "_________________________________________________________________\n",
      "Layer (type)                 Output Shape              Param #   \n",
      "=================================================================\n",
      "embedding_1 (Embedding)      (None, None, 100)         1549100   \n",
      "_________________________________________________________________\n",
      "masking_1 (Masking)          (None, None, 100)         0         \n",
      "_________________________________________________________________\n",
      "lstm_1 (LSTM)                (None, 64)                42240     \n",
      "_________________________________________________________________\n",
      "dense_1 (Dense)              (None, 128)               8320      \n",
      "_________________________________________________________________\n",
      "dropout_1 (Dropout)          (None, 128)               0         \n",
      "_________________________________________________________________\n",
      "dense_2 (Dense)              (None, 15491)             1998339   \n",
      "=================================================================\n",
      "Total params: 3,597,999\n",
      "Trainable params: 2,048,899\n",
      "Non-trainable params: 1,549,100\n",
      "_________________________________________________________________\n"
     ]
    }
   ],
   "source": [
    "model.summary()"
   ]
  },
  {
   "cell_type": "code",
   "execution_count": 91,
   "metadata": {
    "colab": {
     "base_uri": "https://localhost:8080/",
     "height": 1000
    },
    "colab_type": "code",
    "id": "cuE9YYk9BUHw",
    "outputId": "848347be-6cad-4578-b1fc-61408dfbf83a"
   },
   "outputs": [
    {
     "name": "stdout",
     "output_type": "stream",
     "text": [
      "Train on 139623 samples, validate on 59839 samples\n",
      "Epoch 1/50\n",
      "139623/139623 [==============================] - 24s 172us/step - loss: 6.8772 - accuracy: 0.0524 - val_loss: 6.9880 - val_accuracy: 0.0685\n",
      "Epoch 2/50\n",
      "139623/139623 [==============================] - 24s 173us/step - loss: 6.8640 - accuracy: 0.0570 - val_loss: 6.9814 - val_accuracy: 0.0662\n",
      "Epoch 3/50\n",
      "139623/139623 [==============================] - 24s 173us/step - loss: 6.8464 - accuracy: 0.0600 - val_loss: 6.9647 - val_accuracy: 0.0665\n",
      "Epoch 4/50\n",
      "139623/139623 [==============================] - 24s 173us/step - loss: 6.8233 - accuracy: 0.0627 - val_loss: 6.9436 - val_accuracy: 0.0668\n",
      "Epoch 5/50\n",
      "139623/139623 [==============================] - 24s 172us/step - loss: 6.8005 - accuracy: 0.0637 - val_loss: 6.9284 - val_accuracy: 0.0667\n",
      "Epoch 6/50\n",
      "139623/139623 [==============================] - 24s 175us/step - loss: 6.7799 - accuracy: 0.0639 - val_loss: 6.9134 - val_accuracy: 0.0670\n",
      "Epoch 7/50\n",
      "139623/139623 [==============================] - 24s 173us/step - loss: 6.7554 - accuracy: 0.0646 - val_loss: 6.8983 - val_accuracy: 0.0682\n",
      "Epoch 8/50\n",
      "139623/139623 [==============================] - 24s 173us/step - loss: 6.7215 - accuracy: 0.0672 - val_loss: 6.8618 - val_accuracy: 0.0711\n",
      "Epoch 9/50\n",
      "139623/139623 [==============================] - 24s 172us/step - loss: 6.6735 - accuracy: 0.0719 - val_loss: 6.8143 - val_accuracy: 0.0823\n",
      "Epoch 10/50\n",
      "139623/139623 [==============================] - 24s 171us/step - loss: 6.6220 - accuracy: 0.0763 - val_loss: 6.7820 - val_accuracy: 0.0835\n",
      "Epoch 11/50\n",
      "139623/139623 [==============================] - 24s 172us/step - loss: 6.5682 - accuracy: 0.0795 - val_loss: 6.7365 - val_accuracy: 0.0859\n",
      "Epoch 12/50\n",
      "139623/139623 [==============================] - 24s 171us/step - loss: 6.5268 - accuracy: 0.0808 - val_loss: 6.7136 - val_accuracy: 0.0870\n",
      "Epoch 13/50\n",
      "139623/139623 [==============================] - 24s 171us/step - loss: 6.4906 - accuracy: 0.0825 - val_loss: 6.6935 - val_accuracy: 0.0874\n",
      "Epoch 14/50\n",
      "139623/139623 [==============================] - 24s 171us/step - loss: 6.4622 - accuracy: 0.0828 - val_loss: 6.6838 - val_accuracy: 0.0868\n",
      "Epoch 15/50\n",
      "139623/139623 [==============================] - 24s 171us/step - loss: 6.4319 - accuracy: 0.0843 - val_loss: 6.6671 - val_accuracy: 0.0887\n",
      "Epoch 16/50\n",
      "139623/139623 [==============================] - 24s 173us/step - loss: 6.4074 - accuracy: 0.0846 - val_loss: 6.6546 - val_accuracy: 0.0897\n",
      "Epoch 17/50\n",
      "139623/139623 [==============================] - 24s 170us/step - loss: 6.3805 - accuracy: 0.0857 - val_loss: 6.6462 - val_accuracy: 0.0903\n",
      "Epoch 18/50\n",
      "139623/139623 [==============================] - 24s 170us/step - loss: 6.3626 - accuracy: 0.0861 - val_loss: 6.6329 - val_accuracy: 0.0907\n",
      "Epoch 19/50\n",
      "139623/139623 [==============================] - 24s 171us/step - loss: 6.3402 - accuracy: 0.0863 - val_loss: 6.6245 - val_accuracy: 0.0916\n",
      "Epoch 20/50\n",
      "139623/139623 [==============================] - 24s 171us/step - loss: 6.3175 - accuracy: 0.0867 - val_loss: 6.6135 - val_accuracy: 0.0930\n",
      "Epoch 21/50\n",
      "139623/139623 [==============================] - 24s 170us/step - loss: 6.2953 - accuracy: 0.0887 - val_loss: 6.6083 - val_accuracy: 0.0932\n",
      "Epoch 22/50\n",
      "139623/139623 [==============================] - 24s 170us/step - loss: 6.2730 - accuracy: 0.0882 - val_loss: 6.5982 - val_accuracy: 0.0933\n",
      "Epoch 23/50\n",
      "139623/139623 [==============================] - 24s 170us/step - loss: 6.2582 - accuracy: 0.0889 - val_loss: 6.5927 - val_accuracy: 0.0938\n",
      "Epoch 24/50\n",
      "139623/139623 [==============================] - 24s 170us/step - loss: 6.2346 - accuracy: 0.0897 - val_loss: 6.5837 - val_accuracy: 0.0951\n",
      "Epoch 25/50\n",
      "139623/139623 [==============================] - 24s 171us/step - loss: 6.2148 - accuracy: 0.0903 - val_loss: 6.5716 - val_accuracy: 0.0972\n",
      "Epoch 26/50\n",
      "139623/139623 [==============================] - 24s 171us/step - loss: 6.1919 - accuracy: 0.0902 - val_loss: 6.5673 - val_accuracy: 0.0968\n",
      "Epoch 27/50\n",
      "139623/139623 [==============================] - 24s 170us/step - loss: 6.1739 - accuracy: 0.0920 - val_loss: 6.5538 - val_accuracy: 0.0988\n",
      "Epoch 28/50\n",
      "139623/139623 [==============================] - 24s 170us/step - loss: 6.1533 - accuracy: 0.0918 - val_loss: 6.5429 - val_accuracy: 0.0987\n",
      "Epoch 29/50\n",
      "139623/139623 [==============================] - 24s 172us/step - loss: 6.1342 - accuracy: 0.0931 - val_loss: 6.5359 - val_accuracy: 0.0982\n",
      "Epoch 30/50\n",
      "139623/139623 [==============================] - 24s 171us/step - loss: 6.1125 - accuracy: 0.0933 - val_loss: 6.5227 - val_accuracy: 0.1017\n",
      "Epoch 31/50\n",
      "139623/139623 [==============================] - 24s 171us/step - loss: 6.0933 - accuracy: 0.0933 - val_loss: 6.5205 - val_accuracy: 0.1011\n",
      "Epoch 32/50\n",
      "139623/139623 [==============================] - 24s 170us/step - loss: 6.0717 - accuracy: 0.0941 - val_loss: 6.5189 - val_accuracy: 0.1023\n",
      "Epoch 33/50\n",
      "139623/139623 [==============================] - 24s 170us/step - loss: 6.0535 - accuracy: 0.0947 - val_loss: 6.5189 - val_accuracy: 0.1038\n",
      "Epoch 34/50\n",
      "139623/139623 [==============================] - 24s 169us/step - loss: 6.0329 - accuracy: 0.0955 - val_loss: 6.5064 - val_accuracy: 0.1019\n",
      "Epoch 35/50\n",
      "139623/139623 [==============================] - 23s 168us/step - loss: 6.0160 - accuracy: 0.0963 - val_loss: 6.5008 - val_accuracy: 0.1031\n",
      "Epoch 36/50\n",
      "139623/139623 [==============================] - 24s 169us/step - loss: 5.9948 - accuracy: 0.0966 - val_loss: 6.5075 - val_accuracy: 0.1040\n",
      "Epoch 37/50\n",
      "139623/139623 [==============================] - 24s 168us/step - loss: 5.9776 - accuracy: 0.0968 - val_loss: 6.4957 - val_accuracy: 0.1057\n",
      "Epoch 38/50\n",
      "139623/139623 [==============================] - 24s 170us/step - loss: 5.9587 - accuracy: 0.0965 - val_loss: 6.4860 - val_accuracy: 0.1064\n",
      "Epoch 39/50\n",
      "139623/139623 [==============================] - 24s 170us/step - loss: 5.9422 - accuracy: 0.0976 - val_loss: 6.4871 - val_accuracy: 0.1060\n",
      "Epoch 40/50\n",
      "139623/139623 [==============================] - 24s 169us/step - loss: 5.9250 - accuracy: 0.0979 - val_loss: 6.4812 - val_accuracy: 0.1055\n",
      "Epoch 41/50\n",
      "139623/139623 [==============================] - 24s 170us/step - loss: 5.9105 - accuracy: 0.0982 - val_loss: 6.4842 - val_accuracy: 0.1074\n",
      "Epoch 42/50\n",
      "139623/139623 [==============================] - 24s 170us/step - loss: 5.8899 - accuracy: 0.0987 - val_loss: 6.4768 - val_accuracy: 0.1080\n",
      "Epoch 43/50\n",
      "139623/139623 [==============================] - 24s 169us/step - loss: 5.8729 - accuracy: 0.0991 - val_loss: 6.4694 - val_accuracy: 0.1096\n",
      "Epoch 44/50\n",
      "139623/139623 [==============================] - 24s 169us/step - loss: 5.8577 - accuracy: 0.0999 - val_loss: 6.4693 - val_accuracy: 0.1106\n",
      "Epoch 45/50\n",
      "139623/139623 [==============================] - 24s 169us/step - loss: 5.8370 - accuracy: 0.0998 - val_loss: 6.4664 - val_accuracy: 0.1110\n",
      "Epoch 46/50\n",
      "139623/139623 [==============================] - 24s 169us/step - loss: 5.8238 - accuracy: 0.1006 - val_loss: 6.4773 - val_accuracy: 0.1111\n",
      "Epoch 47/50\n",
      "139623/139623 [==============================] - 23s 168us/step - loss: 5.8066 - accuracy: 0.1011 - val_loss: 6.4612 - val_accuracy: 0.1112\n",
      "Epoch 48/50\n",
      "139623/139623 [==============================] - 24s 169us/step - loss: 5.7882 - accuracy: 0.1015 - val_loss: 6.4593 - val_accuracy: 0.1114\n",
      "Epoch 49/50\n",
      "139623/139623 [==============================] - 24s 168us/step - loss: 5.7737 - accuracy: 0.1017 - val_loss: 6.4555 - val_accuracy: 0.1113\n",
      "Epoch 50/50\n",
      "139623/139623 [==============================] - 24s 169us/step - loss: 5.7540 - accuracy: 0.1013 - val_loss: 6.4511 - val_accuracy: 0.1130\n"
     ]
    }
   ],
   "source": [
    "history = utils.train_model(\n",
    "    training_dict,\n",
    "    f'{content_type}_uni-1_layer-untrainable-50_seq',\n",
    "    model=model,\n",
    "    epochs=50\n",
    ")"
   ]
  },
  {
   "cell_type": "markdown",
   "metadata": {
    "colab_type": "text",
    "id": "VcPj5jj01vvz"
   },
   "source": [
    "#### Unidirectional, 2 layers, Untrainable"
   ]
  },
  {
   "cell_type": "code",
   "execution_count": 15,
   "metadata": {
    "colab": {},
    "colab_type": "code",
    "id": "8btXLNN01v5v"
   },
   "outputs": [],
   "source": [
    "model = utils.make_word_level_model(\n",
    "    num_words,\n",
    "    embedding_matrix,\n",
    "    lstm_cells=64,\n",
    "    trainable=False,\n",
    "    lstm_layers=2,\n",
    "    bi_direc=False\n",
    ")"
   ]
  },
  {
   "cell_type": "code",
   "execution_count": 16,
   "metadata": {
    "colab": {
     "base_uri": "https://localhost:8080/",
     "height": 391
    },
    "colab_type": "code",
    "id": "Jm0glR5qJe8G",
    "outputId": "b194d8ef-3595-4309-d60b-80bb1d7fd4f1"
   },
   "outputs": [
    {
     "name": "stdout",
     "output_type": "stream",
     "text": [
      "Model: \"sequential_2\"\n",
      "_________________________________________________________________\n",
      "Layer (type)                 Output Shape              Param #   \n",
      "=================================================================\n",
      "embedding_2 (Embedding)      (None, None, 100)         1549100   \n",
      "_________________________________________________________________\n",
      "masking_2 (Masking)          (None, None, 100)         0         \n",
      "_________________________________________________________________\n",
      "lstm_2 (LSTM)                (None, None, 64)          42240     \n",
      "_________________________________________________________________\n",
      "lstm_3 (LSTM)                (None, 64)                33024     \n",
      "_________________________________________________________________\n",
      "dense_3 (Dense)              (None, 128)               8320      \n",
      "_________________________________________________________________\n",
      "dropout_2 (Dropout)          (None, 128)               0         \n",
      "_________________________________________________________________\n",
      "dense_4 (Dense)              (None, 15491)             1998339   \n",
      "=================================================================\n",
      "Total params: 3,631,023\n",
      "Trainable params: 2,081,923\n",
      "Non-trainable params: 1,549,100\n",
      "_________________________________________________________________\n"
     ]
    }
   ],
   "source": [
    "model.summary()"
   ]
  },
  {
   "cell_type": "code",
   "execution_count": 93,
   "metadata": {
    "colab": {
     "base_uri": "https://localhost:8080/",
     "height": 1000
    },
    "colab_type": "code",
    "id": "O69eEl-Q1v9A",
    "outputId": "58a5d143-1dde-4c19-a5d7-0079f2156d97"
   },
   "outputs": [
    {
     "name": "stdout",
     "output_type": "stream",
     "text": [
      "Train on 139623 samples, validate on 59839 samples\n",
      "Epoch 1/50\n",
      "139623/139623 [==============================] - 40s 285us/step - loss: 7.7878 - accuracy: 0.0351 - val_loss: 6.9863 - val_accuracy: 0.0444\n",
      "Epoch 2/50\n",
      "139623/139623 [==============================] - 38s 275us/step - loss: 6.9763 - accuracy: 0.0438 - val_loss: 6.9976 - val_accuracy: 0.0451\n",
      "Epoch 3/50\n",
      "139623/139623 [==============================] - 39s 276us/step - loss: 6.9552 - accuracy: 0.0441 - val_loss: 7.0092 - val_accuracy: 0.0451\n",
      "Epoch 4/50\n",
      "139623/139623 [==============================] - 38s 274us/step - loss: 6.9405 - accuracy: 0.0427 - val_loss: 7.0090 - val_accuracy: 0.0451\n",
      "Epoch 5/50\n",
      "139623/139623 [==============================] - 38s 274us/step - loss: 6.9198 - accuracy: 0.0442 - val_loss: 6.9956 - val_accuracy: 0.0451\n",
      "Epoch 6/50\n",
      "139623/139623 [==============================] - 38s 275us/step - loss: 6.9020 - accuracy: 0.0457 - val_loss: 6.9958 - val_accuracy: 0.0459\n",
      "Epoch 7/50\n",
      "139623/139623 [==============================] - 38s 274us/step - loss: 6.8925 - accuracy: 0.0481 - val_loss: 6.9927 - val_accuracy: 0.0471\n",
      "Epoch 8/50\n",
      "139623/139623 [==============================] - 38s 275us/step - loss: 6.8810 - accuracy: 0.0505 - val_loss: 6.9954 - val_accuracy: 0.0676\n",
      "Epoch 9/50\n",
      "139623/139623 [==============================] - 38s 275us/step - loss: 6.8725 - accuracy: 0.0538 - val_loss: 6.9890 - val_accuracy: 0.0684\n",
      "Epoch 10/50\n",
      "139623/139623 [==============================] - 38s 275us/step - loss: 6.8574 - accuracy: 0.0582 - val_loss: 6.9770 - val_accuracy: 0.0682\n",
      "Epoch 11/50\n",
      "139623/139623 [==============================] - 39s 277us/step - loss: 6.8338 - accuracy: 0.0628 - val_loss: 6.9567 - val_accuracy: 0.0687\n",
      "Epoch 12/50\n",
      "139623/139623 [==============================] - 38s 275us/step - loss: 6.8142 - accuracy: 0.0639 - val_loss: 6.9413 - val_accuracy: 0.0691\n",
      "Epoch 13/50\n",
      "139623/139623 [==============================] - 38s 275us/step - loss: 6.7916 - accuracy: 0.0644 - val_loss: 6.9332 - val_accuracy: 0.0688\n",
      "Epoch 14/50\n",
      "139623/139623 [==============================] - 38s 275us/step - loss: 6.7799 - accuracy: 0.0648 - val_loss: 6.9253 - val_accuracy: 0.0670\n",
      "Epoch 15/50\n",
      "139623/139623 [==============================] - 39s 278us/step - loss: 6.7570 - accuracy: 0.0650 - val_loss: 6.9023 - val_accuracy: 0.0682\n",
      "Epoch 16/50\n",
      "139623/139623 [==============================] - 38s 274us/step - loss: 6.7340 - accuracy: 0.0660 - val_loss: 6.8902 - val_accuracy: 0.0672\n",
      "Epoch 17/50\n",
      "139623/139623 [==============================] - 39s 276us/step - loss: 6.7143 - accuracy: 0.0662 - val_loss: 6.8794 - val_accuracy: 0.0671\n",
      "Epoch 18/50\n",
      "139623/139623 [==============================] - 39s 277us/step - loss: 6.6958 - accuracy: 0.0665 - val_loss: 6.8604 - val_accuracy: 0.0711\n",
      "Epoch 19/50\n",
      "139623/139623 [==============================] - 39s 279us/step - loss: 6.6729 - accuracy: 0.0683 - val_loss: 6.8453 - val_accuracy: 0.0733\n",
      "Epoch 20/50\n",
      "139623/139623 [==============================] - 38s 275us/step - loss: 6.6499 - accuracy: 0.0692 - val_loss: 6.8307 - val_accuracy: 0.0737\n",
      "Epoch 21/50\n",
      "139623/139623 [==============================] - 39s 276us/step - loss: 6.6204 - accuracy: 0.0704 - val_loss: 6.8000 - val_accuracy: 0.0749\n",
      "Epoch 22/50\n",
      "139623/139623 [==============================] - 39s 278us/step - loss: 6.5916 - accuracy: 0.0711 - val_loss: 6.7777 - val_accuracy: 0.0778\n",
      "Epoch 23/50\n",
      "139623/139623 [==============================] - 39s 277us/step - loss: 6.5576 - accuracy: 0.0740 - val_loss: 6.7593 - val_accuracy: 0.0784\n",
      "Epoch 24/50\n",
      "139623/139623 [==============================] - 38s 275us/step - loss: 6.5290 - accuracy: 0.0759 - val_loss: 6.7329 - val_accuracy: 0.0815\n",
      "Epoch 25/50\n",
      "139623/139623 [==============================] - 39s 278us/step - loss: 6.4983 - accuracy: 0.0783 - val_loss: 6.7144 - val_accuracy: 0.0835\n",
      "Epoch 26/50\n",
      "139623/139623 [==============================] - 38s 275us/step - loss: 6.4712 - accuracy: 0.0797 - val_loss: 6.7057 - val_accuracy: 0.0856\n",
      "Epoch 27/50\n",
      "139623/139623 [==============================] - 39s 278us/step - loss: 6.4488 - accuracy: 0.0810 - val_loss: 6.6891 - val_accuracy: 0.0863\n",
      "Epoch 28/50\n",
      "139623/139623 [==============================] - 39s 277us/step - loss: 6.4240 - accuracy: 0.0823 - val_loss: 6.6694 - val_accuracy: 0.0872\n",
      "Epoch 29/50\n",
      "139623/139623 [==============================] - 39s 278us/step - loss: 6.3974 - accuracy: 0.0828 - val_loss: 6.6598 - val_accuracy: 0.0888\n",
      "Epoch 30/50\n",
      "139623/139623 [==============================] - 39s 277us/step - loss: 6.3730 - accuracy: 0.0849 - val_loss: 6.6499 - val_accuracy: 0.0899\n",
      "Epoch 31/50\n",
      "139623/139623 [==============================] - 39s 279us/step - loss: 6.3523 - accuracy: 0.0861 - val_loss: 6.6391 - val_accuracy: 0.0909\n",
      "Epoch 32/50\n",
      "139623/139623 [==============================] - 39s 277us/step - loss: 6.3332 - accuracy: 0.0864 - val_loss: 6.6369 - val_accuracy: 0.0906\n",
      "Epoch 33/50\n",
      "139623/139623 [==============================] - 39s 279us/step - loss: 6.3157 - accuracy: 0.0865 - val_loss: 6.6286 - val_accuracy: 0.0922\n",
      "Epoch 34/50\n",
      "139623/139623 [==============================] - 39s 280us/step - loss: 6.2936 - accuracy: 0.0867 - val_loss: 6.6199 - val_accuracy: 0.0921\n",
      "Epoch 35/50\n",
      "139623/139623 [==============================] - 39s 281us/step - loss: 6.2763 - accuracy: 0.0876 - val_loss: 6.6129 - val_accuracy: 0.0940\n",
      "Epoch 36/50\n",
      "139623/139623 [==============================] - 39s 279us/step - loss: 6.2592 - accuracy: 0.0891 - val_loss: 6.6078 - val_accuracy: 0.0941\n",
      "Epoch 37/50\n",
      "139623/139623 [==============================] - 39s 278us/step - loss: 6.2404 - accuracy: 0.0895 - val_loss: 6.6089 - val_accuracy: 0.0941\n",
      "Epoch 38/50\n",
      "139623/139623 [==============================] - 39s 278us/step - loss: 6.2251 - accuracy: 0.0902 - val_loss: 6.5991 - val_accuracy: 0.0954\n",
      "Epoch 39/50\n",
      "139623/139623 [==============================] - 39s 277us/step - loss: 6.2121 - accuracy: 0.0898 - val_loss: 6.6007 - val_accuracy: 0.0947\n",
      "Epoch 40/50\n",
      "139623/139623 [==============================] - 39s 278us/step - loss: 6.1917 - accuracy: 0.0917 - val_loss: 6.5986 - val_accuracy: 0.0961\n",
      "Epoch 41/50\n",
      "139623/139623 [==============================] - 39s 278us/step - loss: 6.1749 - accuracy: 0.0914 - val_loss: 6.5929 - val_accuracy: 0.0969\n",
      "Epoch 42/50\n",
      "139623/139623 [==============================] - 39s 278us/step - loss: 6.1607 - accuracy: 0.0919 - val_loss: 6.5810 - val_accuracy: 0.0977\n",
      "Epoch 43/50\n",
      "139623/139623 [==============================] - 39s 279us/step - loss: 6.1453 - accuracy: 0.0934 - val_loss: 6.5734 - val_accuracy: 0.0984\n",
      "Epoch 44/50\n",
      "139623/139623 [==============================] - 39s 279us/step - loss: 6.1291 - accuracy: 0.0932 - val_loss: 6.5807 - val_accuracy: 0.0998\n",
      "Epoch 45/50\n",
      "139623/139623 [==============================] - 39s 278us/step - loss: 6.1128 - accuracy: 0.0940 - val_loss: 6.5811 - val_accuracy: 0.1006\n",
      "Epoch 46/50\n",
      "139623/139623 [==============================] - 39s 278us/step - loss: 6.0982 - accuracy: 0.0941 - val_loss: 6.5753 - val_accuracy: 0.1002\n",
      "Epoch 47/50\n",
      "139623/139623 [==============================] - 39s 277us/step - loss: 6.0833 - accuracy: 0.0948 - val_loss: 6.5686 - val_accuracy: 0.1007\n",
      "Epoch 48/50\n",
      "139623/139623 [==============================] - 39s 278us/step - loss: 6.0680 - accuracy: 0.0951 - val_loss: 6.5750 - val_accuracy: 0.1007\n",
      "Epoch 49/50\n",
      "139623/139623 [==============================] - 39s 276us/step - loss: 6.0533 - accuracy: 0.0961 - val_loss: 6.5704 - val_accuracy: 0.1015\n",
      "Epoch 50/50\n",
      "139623/139623 [==============================] - 38s 274us/step - loss: 6.0358 - accuracy: 0.0956 - val_loss: 6.5666 - val_accuracy: 0.1039\n"
     ]
    }
   ],
   "source": [
    "history = utils.train_model(\n",
    "    training_dict,\n",
    "    f'{content_type}_uni-2_layers-untrainable-50_seq',\n",
    "    model=model,\n",
    "    epochs=50\n",
    ")"
   ]
  },
  {
   "cell_type": "markdown",
   "metadata": {
    "colab_type": "text",
    "id": "ozEE3KEl1-Ag"
   },
   "source": [
    "#### Bidirectional, 1 layer, Untrainable"
   ]
  },
  {
   "cell_type": "code",
   "execution_count": 17,
   "metadata": {
    "colab": {},
    "colab_type": "code",
    "id": "v4oIEuli1-KH"
   },
   "outputs": [],
   "source": [
    "model = utils.make_word_level_model(\n",
    "    num_words,\n",
    "    embedding_matrix,\n",
    "    lstm_cells=64,\n",
    "    trainable=False,\n",
    "    lstm_layers=1,\n",
    "    bi_direc=True\n",
    ")"
   ]
  },
  {
   "cell_type": "code",
   "execution_count": 18,
   "metadata": {
    "colab": {
     "base_uri": "https://localhost:8080/",
     "height": 357
    },
    "colab_type": "code",
    "id": "XAMo7pODJk9W",
    "outputId": "40a61a50-338a-4c02-ca63-557171582ce4"
   },
   "outputs": [
    {
     "name": "stdout",
     "output_type": "stream",
     "text": [
      "Model: \"sequential_3\"\n",
      "_________________________________________________________________\n",
      "Layer (type)                 Output Shape              Param #   \n",
      "=================================================================\n",
      "embedding_3 (Embedding)      (None, None, 100)         1549100   \n",
      "_________________________________________________________________\n",
      "masking_3 (Masking)          (None, None, 100)         0         \n",
      "_________________________________________________________________\n",
      "bidirectional_1 (Bidirection (None, 128)               84480     \n",
      "_________________________________________________________________\n",
      "dense_5 (Dense)              (None, 128)               16512     \n",
      "_________________________________________________________________\n",
      "dropout_3 (Dropout)          (None, 128)               0         \n",
      "_________________________________________________________________\n",
      "dense_6 (Dense)              (None, 15491)             1998339   \n",
      "=================================================================\n",
      "Total params: 3,648,431\n",
      "Trainable params: 2,099,331\n",
      "Non-trainable params: 1,549,100\n",
      "_________________________________________________________________\n"
     ]
    }
   ],
   "source": [
    "model.summary()"
   ]
  },
  {
   "cell_type": "code",
   "execution_count": 95,
   "metadata": {
    "colab": {
     "base_uri": "https://localhost:8080/",
     "height": 1000
    },
    "colab_type": "code",
    "id": "BHVh78Fq1-Q9",
    "outputId": "d35af0a6-d6b0-47d9-bf69-0f8d17b644d4"
   },
   "outputs": [
    {
     "name": "stdout",
     "output_type": "stream",
     "text": [
      "Train on 139623 samples, validate on 59839 samples\n",
      "Epoch 1/50\n",
      "139623/139623 [==============================] - 39s 277us/step - loss: 7.7266 - accuracy: 0.0344 - val_loss: 6.9904 - val_accuracy: 0.0451\n",
      "Epoch 2/50\n",
      "139623/139623 [==============================] - 38s 270us/step - loss: 6.9665 - accuracy: 0.0436 - val_loss: 6.9881 - val_accuracy: 0.0451\n",
      "Epoch 3/50\n",
      "139623/139623 [==============================] - 38s 269us/step - loss: 6.9329 - accuracy: 0.0447 - val_loss: 6.9792 - val_accuracy: 0.0454\n",
      "Epoch 4/50\n",
      "139623/139623 [==============================] - 38s 269us/step - loss: 6.9037 - accuracy: 0.0465 - val_loss: 6.9731 - val_accuracy: 0.0435\n",
      "Epoch 5/50\n",
      "139623/139623 [==============================] - 38s 269us/step - loss: 6.8836 - accuracy: 0.0526 - val_loss: 6.9708 - val_accuracy: 0.0680\n",
      "Epoch 6/50\n",
      "139623/139623 [==============================] - 38s 270us/step - loss: 6.8647 - accuracy: 0.0590 - val_loss: 6.9547 - val_accuracy: 0.0681\n",
      "Epoch 7/50\n",
      "139623/139623 [==============================] - 38s 269us/step - loss: 6.8397 - accuracy: 0.0624 - val_loss: 6.9310 - val_accuracy: 0.0681\n",
      "Epoch 8/50\n",
      "139623/139623 [==============================] - 37s 268us/step - loss: 6.8133 - accuracy: 0.0637 - val_loss: 6.9155 - val_accuracy: 0.0678\n",
      "Epoch 9/50\n",
      "139623/139623 [==============================] - 38s 269us/step - loss: 6.7864 - accuracy: 0.0644 - val_loss: 6.8998 - val_accuracy: 0.0678\n",
      "Epoch 10/50\n",
      "139623/139623 [==============================] - 38s 270us/step - loss: 6.7621 - accuracy: 0.0650 - val_loss: 6.8915 - val_accuracy: 0.0681\n",
      "Epoch 11/50\n",
      "139623/139623 [==============================] - 38s 269us/step - loss: 6.7378 - accuracy: 0.0651 - val_loss: 6.8691 - val_accuracy: 0.0679\n",
      "Epoch 12/50\n",
      "139623/139623 [==============================] - 37s 268us/step - loss: 6.6995 - accuracy: 0.0663 - val_loss: 6.8279 - val_accuracy: 0.0707\n",
      "Epoch 13/50\n",
      "139623/139623 [==============================] - 37s 267us/step - loss: 6.6450 - accuracy: 0.0719 - val_loss: 6.7737 - val_accuracy: 0.0801\n",
      "Epoch 14/50\n",
      "139623/139623 [==============================] - 37s 268us/step - loss: 6.5854 - accuracy: 0.0768 - val_loss: 6.7212 - val_accuracy: 0.0845\n",
      "Epoch 15/50\n",
      "139623/139623 [==============================] - 37s 268us/step - loss: 6.5266 - accuracy: 0.0797 - val_loss: 6.6785 - val_accuracy: 0.0875\n",
      "Epoch 16/50\n",
      "139623/139623 [==============================] - 37s 268us/step - loss: 6.4774 - accuracy: 0.0826 - val_loss: 6.6509 - val_accuracy: 0.0907\n",
      "Epoch 17/50\n",
      "139623/139623 [==============================] - 38s 271us/step - loss: 6.4321 - accuracy: 0.0833 - val_loss: 6.6189 - val_accuracy: 0.0900\n",
      "Epoch 18/50\n",
      "139623/139623 [==============================] - 38s 269us/step - loss: 6.3913 - accuracy: 0.0859 - val_loss: 6.5969 - val_accuracy: 0.0907\n",
      "Epoch 19/50\n",
      "139623/139623 [==============================] - 37s 268us/step - loss: 6.3542 - accuracy: 0.0865 - val_loss: 6.5828 - val_accuracy: 0.0926\n",
      "Epoch 20/50\n",
      "139623/139623 [==============================] - 37s 268us/step - loss: 6.3165 - accuracy: 0.0883 - val_loss: 6.5567 - val_accuracy: 0.0935\n",
      "Epoch 21/50\n",
      "139623/139623 [==============================] - 37s 267us/step - loss: 6.2851 - accuracy: 0.0891 - val_loss: 6.5396 - val_accuracy: 0.0958\n",
      "Epoch 22/50\n",
      "139623/139623 [==============================] - 37s 267us/step - loss: 6.2551 - accuracy: 0.0901 - val_loss: 6.5319 - val_accuracy: 0.0964\n",
      "Epoch 23/50\n",
      "139623/139623 [==============================] - 37s 267us/step - loss: 6.2246 - accuracy: 0.0918 - val_loss: 6.5218 - val_accuracy: 0.0967\n",
      "Epoch 24/50\n",
      "139623/139623 [==============================] - 37s 266us/step - loss: 6.1953 - accuracy: 0.0929 - val_loss: 6.4976 - val_accuracy: 0.0982\n",
      "Epoch 25/50\n",
      "139623/139623 [==============================] - 37s 266us/step - loss: 6.1655 - accuracy: 0.0928 - val_loss: 6.4927 - val_accuracy: 0.0996\n",
      "Epoch 26/50\n",
      "139623/139623 [==============================] - 37s 263us/step - loss: 6.1391 - accuracy: 0.0934 - val_loss: 6.4883 - val_accuracy: 0.1015\n",
      "Epoch 27/50\n",
      "139623/139623 [==============================] - 36s 259us/step - loss: 6.1162 - accuracy: 0.0954 - val_loss: 6.4824 - val_accuracy: 0.1037\n",
      "Epoch 28/50\n",
      "139623/139623 [==============================] - 36s 257us/step - loss: 6.0871 - accuracy: 0.0958 - val_loss: 6.4640 - val_accuracy: 0.1037\n",
      "Epoch 29/50\n",
      "139623/139623 [==============================] - 36s 257us/step - loss: 6.0636 - accuracy: 0.0965 - val_loss: 6.4571 - val_accuracy: 0.1058\n",
      "Epoch 30/50\n",
      "139623/139623 [==============================] - 36s 257us/step - loss: 6.0408 - accuracy: 0.0971 - val_loss: 6.4508 - val_accuracy: 0.1072\n",
      "Epoch 31/50\n",
      "139623/139623 [==============================] - 36s 257us/step - loss: 6.0177 - accuracy: 0.0978 - val_loss: 6.4602 - val_accuracy: 0.1077\n",
      "Epoch 32/50\n",
      "139623/139623 [==============================] - 36s 256us/step - loss: 5.9921 - accuracy: 0.0977 - val_loss: 6.4507 - val_accuracy: 0.1066\n",
      "Epoch 33/50\n",
      "139623/139623 [==============================] - 36s 260us/step - loss: 5.9743 - accuracy: 0.0980 - val_loss: 6.4391 - val_accuracy: 0.1085\n",
      "Epoch 34/50\n",
      "139623/139623 [==============================] - 36s 258us/step - loss: 5.9491 - accuracy: 0.0987 - val_loss: 6.4281 - val_accuracy: 0.1081\n",
      "Epoch 35/50\n",
      "139623/139623 [==============================] - 36s 258us/step - loss: 5.9299 - accuracy: 0.1001 - val_loss: 6.4350 - val_accuracy: 0.1097\n",
      "Epoch 36/50\n",
      "139623/139623 [==============================] - 36s 257us/step - loss: 5.9053 - accuracy: 0.1004 - val_loss: 6.4245 - val_accuracy: 0.1100\n",
      "Epoch 37/50\n",
      "139623/139623 [==============================] - 36s 259us/step - loss: 5.8878 - accuracy: 0.1005 - val_loss: 6.4286 - val_accuracy: 0.1105\n",
      "Epoch 38/50\n",
      "139623/139623 [==============================] - 36s 256us/step - loss: 5.8691 - accuracy: 0.1015 - val_loss: 6.4240 - val_accuracy: 0.1111\n",
      "Epoch 39/50\n",
      "139623/139623 [==============================] - 36s 257us/step - loss: 5.8471 - accuracy: 0.1010 - val_loss: 6.4284 - val_accuracy: 0.1119\n",
      "Epoch 40/50\n",
      "139623/139623 [==============================] - 36s 257us/step - loss: 5.8279 - accuracy: 0.1014 - val_loss: 6.4312 - val_accuracy: 0.1100\n",
      "Epoch 41/50\n",
      "139623/139623 [==============================] - 36s 255us/step - loss: 5.8059 - accuracy: 0.1017 - val_loss: 6.4235 - val_accuracy: 0.1132\n",
      "Epoch 42/50\n",
      "139623/139623 [==============================] - 36s 258us/step - loss: 5.7870 - accuracy: 0.1033 - val_loss: 6.4180 - val_accuracy: 0.1136\n",
      "Epoch 43/50\n",
      "139623/139623 [==============================] - 36s 257us/step - loss: 5.7672 - accuracy: 0.1025 - val_loss: 6.4133 - val_accuracy: 0.1133\n",
      "Epoch 44/50\n",
      "139623/139623 [==============================] - 36s 257us/step - loss: 5.7462 - accuracy: 0.1028 - val_loss: 6.4172 - val_accuracy: 0.1142\n",
      "Epoch 45/50\n",
      "139623/139623 [==============================] - 36s 256us/step - loss: 5.7257 - accuracy: 0.1034 - val_loss: 6.4123 - val_accuracy: 0.1144\n",
      "Epoch 46/50\n",
      "139623/139623 [==============================] - 36s 258us/step - loss: 5.7047 - accuracy: 0.1035 - val_loss: 6.3968 - val_accuracy: 0.1143\n",
      "Epoch 47/50\n",
      "139623/139623 [==============================] - 36s 257us/step - loss: 5.6846 - accuracy: 0.1024 - val_loss: 6.3999 - val_accuracy: 0.1148\n",
      "Epoch 48/50\n",
      "139623/139623 [==============================] - 36s 255us/step - loss: 5.6632 - accuracy: 0.1038 - val_loss: 6.4075 - val_accuracy: 0.1145\n",
      "Epoch 49/50\n",
      "139623/139623 [==============================] - 35s 254us/step - loss: 5.6431 - accuracy: 0.1049 - val_loss: 6.3936 - val_accuracy: 0.1161\n",
      "Epoch 50/50\n",
      "139623/139623 [==============================] - 36s 256us/step - loss: 5.6167 - accuracy: 0.1041 - val_loss: 6.3906 - val_accuracy: 0.1154\n"
     ]
    }
   ],
   "source": [
    "history = utils.train_model(\n",
    "    training_dict,\n",
    "    f'{content_type}_bi-1_layer-untrainable-50_seq',\n",
    "    model=model,\n",
    "    # use_pretrained_model=True,\n",
    "    epochs=50\n",
    ")"
   ]
  },
  {
   "cell_type": "markdown",
   "metadata": {
    "colab_type": "text",
    "id": "KuC27mzKBUHy"
   },
   "source": [
    "#### Bidirectional, 2 layers, Untrainable"
   ]
  },
  {
   "cell_type": "code",
   "execution_count": 96,
   "metadata": {
    "colab": {},
    "colab_type": "code",
    "id": "9gr3KkoaBUHz"
   },
   "outputs": [],
   "source": [
    "model = utils.make_word_level_model(\n",
    "    num_words,\n",
    "    embedding_matrix,\n",
    "    lstm_cells=64,\n",
    "    trainable=False,\n",
    "    lstm_layers=2,\n",
    "    bi_direc=True\n",
    ")"
   ]
  },
  {
   "cell_type": "code",
   "execution_count": 97,
   "metadata": {
    "colab": {
     "base_uri": "https://localhost:8080/",
     "height": 1000
    },
    "colab_type": "code",
    "id": "lDiz8ejLBUH1",
    "outputId": "7bcc81ab-e601-45b4-9258-950a3e0aa8aa"
   },
   "outputs": [
    {
     "name": "stdout",
     "output_type": "stream",
     "text": [
      "Train on 139623 samples, validate on 59839 samples\n",
      "Epoch 1/50\n",
      "139623/139623 [==============================] - 53s 382us/step - loss: 7.7296 - accuracy: 0.0354 - val_loss: 6.9935 - val_accuracy: 0.0451\n",
      "Epoch 2/50\n",
      "139623/139623 [==============================] - 52s 371us/step - loss: 6.9771 - accuracy: 0.0425 - val_loss: 6.9994 - val_accuracy: 0.0451\n",
      "Epoch 3/50\n",
      "139623/139623 [==============================] - 52s 369us/step - loss: 6.9556 - accuracy: 0.0439 - val_loss: 7.0090 - val_accuracy: 0.0444\n",
      "Epoch 4/50\n",
      "139623/139623 [==============================] - 52s 373us/step - loss: 6.9372 - accuracy: 0.0439 - val_loss: 7.0026 - val_accuracy: 0.0443\n",
      "Epoch 5/50\n",
      "139623/139623 [==============================] - 52s 371us/step - loss: 6.9119 - accuracy: 0.0451 - val_loss: 6.9883 - val_accuracy: 0.0670\n",
      "Epoch 6/50\n",
      "139623/139623 [==============================] - 53s 383us/step - loss: 6.8953 - accuracy: 0.0482 - val_loss: 6.9871 - val_accuracy: 0.0682\n",
      "Epoch 7/50\n",
      "139623/139623 [==============================] - 53s 378us/step - loss: 6.8827 - accuracy: 0.0542 - val_loss: 6.9776 - val_accuracy: 0.0680\n",
      "Epoch 8/50\n",
      "139623/139623 [==============================] - 53s 381us/step - loss: 6.8543 - accuracy: 0.0627 - val_loss: 6.9464 - val_accuracy: 0.0679\n",
      "Epoch 9/50\n",
      "139623/139623 [==============================] - 53s 379us/step - loss: 6.8258 - accuracy: 0.0645 - val_loss: 6.9363 - val_accuracy: 0.0690\n",
      "Epoch 10/50\n",
      "139623/139623 [==============================] - 53s 377us/step - loss: 6.7991 - accuracy: 0.0655 - val_loss: 6.9159 - val_accuracy: 0.0690\n",
      "Epoch 11/50\n",
      "139623/139623 [==============================] - 53s 376us/step - loss: 6.7785 - accuracy: 0.0659 - val_loss: 6.9067 - val_accuracy: 0.0690\n",
      "Epoch 12/50\n",
      "139623/139623 [==============================] - 53s 378us/step - loss: 6.7600 - accuracy: 0.0660 - val_loss: 6.9002 - val_accuracy: 0.0692\n",
      "Epoch 13/50\n",
      "139623/139623 [==============================] - 52s 375us/step - loss: 6.7400 - accuracy: 0.0661 - val_loss: 6.8839 - val_accuracy: 0.0695\n",
      "Epoch 14/50\n",
      "139623/139623 [==============================] - 52s 375us/step - loss: 6.7150 - accuracy: 0.0678 - val_loss: 6.8638 - val_accuracy: 0.0711\n",
      "Epoch 15/50\n",
      "139623/139623 [==============================] - 52s 375us/step - loss: 6.6899 - accuracy: 0.0691 - val_loss: 6.8450 - val_accuracy: 0.0719\n",
      "Epoch 16/50\n",
      "139623/139623 [==============================] - 52s 376us/step - loss: 6.6614 - accuracy: 0.0704 - val_loss: 6.8175 - val_accuracy: 0.0751\n",
      "Epoch 17/50\n",
      "139623/139623 [==============================] - 52s 375us/step - loss: 6.6263 - accuracy: 0.0724 - val_loss: 6.7881 - val_accuracy: 0.0781\n",
      "Epoch 18/50\n",
      "139623/139623 [==============================] - 53s 378us/step - loss: 6.5907 - accuracy: 0.0748 - val_loss: 6.7644 - val_accuracy: 0.0804\n",
      "Epoch 19/50\n",
      "139623/139623 [==============================] - 52s 375us/step - loss: 6.5555 - accuracy: 0.0781 - val_loss: 6.7397 - val_accuracy: 0.0837\n",
      "Epoch 20/50\n",
      "139623/139623 [==============================] - 53s 376us/step - loss: 6.5215 - accuracy: 0.0805 - val_loss: 6.7204 - val_accuracy: 0.0875\n",
      "Epoch 21/50\n",
      "139623/139623 [==============================] - 53s 377us/step - loss: 6.4899 - accuracy: 0.0818 - val_loss: 6.6920 - val_accuracy: 0.0868\n",
      "Epoch 22/50\n",
      "139623/139623 [==============================] - 52s 374us/step - loss: 6.4574 - accuracy: 0.0845 - val_loss: 6.6788 - val_accuracy: 0.0887\n",
      "Epoch 23/50\n",
      "139623/139623 [==============================] - 52s 375us/step - loss: 6.4305 - accuracy: 0.0848 - val_loss: 6.6597 - val_accuracy: 0.0900\n",
      "Epoch 24/50\n",
      "139623/139623 [==============================] - 53s 378us/step - loss: 6.4015 - accuracy: 0.0854 - val_loss: 6.6482 - val_accuracy: 0.0890\n",
      "Epoch 25/50\n",
      "139623/139623 [==============================] - 53s 377us/step - loss: 6.3779 - accuracy: 0.0876 - val_loss: 6.6382 - val_accuracy: 0.0918\n",
      "Epoch 26/50\n",
      "139623/139623 [==============================] - 53s 378us/step - loss: 6.3541 - accuracy: 0.0869 - val_loss: 6.6254 - val_accuracy: 0.0932\n",
      "Epoch 27/50\n",
      "139623/139623 [==============================] - 53s 377us/step - loss: 6.3308 - accuracy: 0.0879 - val_loss: 6.6136 - val_accuracy: 0.0922\n",
      "Epoch 28/50\n",
      "139623/139623 [==============================] - 52s 376us/step - loss: 6.3104 - accuracy: 0.0889 - val_loss: 6.6080 - val_accuracy: 0.0923\n",
      "Epoch 29/50\n",
      "139623/139623 [==============================] - 52s 374us/step - loss: 6.2902 - accuracy: 0.0885 - val_loss: 6.5986 - val_accuracy: 0.0938\n",
      "Epoch 30/50\n",
      "139623/139623 [==============================] - 52s 375us/step - loss: 6.2684 - accuracy: 0.0897 - val_loss: 6.5901 - val_accuracy: 0.0955\n",
      "Epoch 31/50\n",
      "139623/139623 [==============================] - 52s 375us/step - loss: 6.2491 - accuracy: 0.0899 - val_loss: 6.5902 - val_accuracy: 0.0963\n",
      "Epoch 32/50\n",
      "139623/139623 [==============================] - 52s 375us/step - loss: 6.2325 - accuracy: 0.0909 - val_loss: 6.5747 - val_accuracy: 0.0954\n",
      "Epoch 33/50\n",
      "139623/139623 [==============================] - 53s 376us/step - loss: 6.2136 - accuracy: 0.0914 - val_loss: 6.5724 - val_accuracy: 0.0964\n",
      "Epoch 34/50\n",
      "139623/139623 [==============================] - 52s 374us/step - loss: 6.1916 - accuracy: 0.0915 - val_loss: 6.5704 - val_accuracy: 0.0978\n",
      "Epoch 35/50\n",
      "139623/139623 [==============================] - 52s 375us/step - loss: 6.1749 - accuracy: 0.0920 - val_loss: 6.5699 - val_accuracy: 0.0970\n",
      "Epoch 36/50\n",
      "139623/139623 [==============================] - 52s 375us/step - loss: 6.1595 - accuracy: 0.0929 - val_loss: 6.5559 - val_accuracy: 0.0987\n",
      "Epoch 37/50\n",
      "139623/139623 [==============================] - 52s 375us/step - loss: 6.1437 - accuracy: 0.0928 - val_loss: 6.5630 - val_accuracy: 0.0991\n",
      "Epoch 38/50\n",
      "139623/139623 [==============================] - 52s 376us/step - loss: 6.1288 - accuracy: 0.0929 - val_loss: 6.5630 - val_accuracy: 0.1004\n",
      "Epoch 39/50\n",
      "139623/139623 [==============================] - 52s 373us/step - loss: 6.1127 - accuracy: 0.0941 - val_loss: 6.5581 - val_accuracy: 0.0992\n",
      "Epoch 40/50\n",
      "139623/139623 [==============================] - 52s 374us/step - loss: 6.0954 - accuracy: 0.0944 - val_loss: 6.5535 - val_accuracy: 0.1003\n",
      "Epoch 41/50\n",
      "139623/139623 [==============================] - 53s 377us/step - loss: 6.0780 - accuracy: 0.0952 - val_loss: 6.5520 - val_accuracy: 0.1007\n",
      "Epoch 42/50\n",
      "139623/139623 [==============================] - 52s 374us/step - loss: 6.0632 - accuracy: 0.0942 - val_loss: 6.5460 - val_accuracy: 0.1026\n",
      "Epoch 43/50\n",
      "139623/139623 [==============================] - 52s 376us/step - loss: 6.0497 - accuracy: 0.0952 - val_loss: 6.5498 - val_accuracy: 0.1034\n",
      "Epoch 44/50\n",
      "139623/139623 [==============================] - 52s 374us/step - loss: 6.0318 - accuracy: 0.0962 - val_loss: 6.5365 - val_accuracy: 0.1027\n",
      "Epoch 45/50\n",
      "139623/139623 [==============================] - 52s 376us/step - loss: 6.0165 - accuracy: 0.0964 - val_loss: 6.5403 - val_accuracy: 0.1033\n",
      "Epoch 46/50\n",
      "139623/139623 [==============================] - 52s 374us/step - loss: 6.0048 - accuracy: 0.0965 - val_loss: 6.5360 - val_accuracy: 0.1045\n",
      "Epoch 47/50\n",
      "139623/139623 [==============================] - 52s 376us/step - loss: 5.9895 - accuracy: 0.0968 - val_loss: 6.5289 - val_accuracy: 0.1047\n",
      "Epoch 48/50\n",
      "139623/139623 [==============================] - 52s 375us/step - loss: 5.9717 - accuracy: 0.0972 - val_loss: 6.5308 - val_accuracy: 0.1059\n",
      "Epoch 49/50\n",
      "139623/139623 [==============================] - 52s 375us/step - loss: 5.9550 - accuracy: 0.0984 - val_loss: 6.5361 - val_accuracy: 0.1038\n",
      "Epoch 50/50\n",
      "139623/139623 [==============================] - 52s 374us/step - loss: 5.9394 - accuracy: 0.0979 - val_loss: 6.5250 - val_accuracy: 0.1065\n"
     ]
    }
   ],
   "source": [
    "history = utils.train_model(\n",
    "    training_dict,\n",
    "    f'{content_type}_bi-2_layer-untrainable-50_seq',\n",
    "    model=model,\n",
    "    # use_pretrained_model=True,\n",
    "    epochs=50\n",
    ")"
   ]
  },
  {
   "cell_type": "markdown",
   "metadata": {
    "colab_type": "text",
    "id": "7M60nF8u2IW0"
   },
   "source": [
    "#### Unidirectional, 1 layer, Trainable"
   ]
  },
  {
   "cell_type": "code",
   "execution_count": 98,
   "metadata": {
    "colab": {},
    "colab_type": "code",
    "id": "4f6U2I-p2Iej"
   },
   "outputs": [],
   "source": [
    "model = utils.make_word_level_model(\n",
    "    num_words,\n",
    "    embedding_matrix,\n",
    "    lstm_cells=64,\n",
    "    trainable=True,\n",
    "    lstm_layers=1,\n",
    "    bi_direc=False\n",
    ")"
   ]
  },
  {
   "cell_type": "code",
   "execution_count": 99,
   "metadata": {
    "colab": {
     "base_uri": "https://localhost:8080/",
     "height": 1000
    },
    "colab_type": "code",
    "id": "EpytakqX2IhC",
    "outputId": "41506c17-20a9-4af5-c65b-2555b5fd7d2b"
   },
   "outputs": [
    {
     "name": "stderr",
     "output_type": "stream",
     "text": [
      "/usr/local/lib/python3.6/dist-packages/tensorflow/python/framework/indexed_slices.py:434: UserWarning: Converting sparse IndexedSlices to a dense Tensor of unknown shape. This may consume a large amount of memory.\n",
      "  \"Converting sparse IndexedSlices to a dense Tensor of unknown shape. \"\n"
     ]
    },
    {
     "name": "stdout",
     "output_type": "stream",
     "text": [
      "Train on 139623 samples, validate on 59839 samples\n",
      "Epoch 1/50\n",
      "139623/139623 [==============================] - 22s 155us/step - loss: 7.8261 - accuracy: 0.0328 - val_loss: 6.9788 - val_accuracy: 0.0451\n",
      "Epoch 2/50\n",
      "139623/139623 [==============================] - 21s 151us/step - loss: 6.9246 - accuracy: 0.0446 - val_loss: 6.9024 - val_accuracy: 0.0420\n",
      "Epoch 3/50\n",
      "139623/139623 [==============================] - 21s 151us/step - loss: 6.8223 - accuracy: 0.0436 - val_loss: 6.8884 - val_accuracy: 0.0444\n",
      "Epoch 4/50\n",
      "139623/139623 [==============================] - 21s 152us/step - loss: 6.7753 - accuracy: 0.0471 - val_loss: 6.8863 - val_accuracy: 0.0603\n",
      "Epoch 5/50\n",
      "139623/139623 [==============================] - 21s 151us/step - loss: 6.7243 - accuracy: 0.0608 - val_loss: 6.8378 - val_accuracy: 0.0687\n",
      "Epoch 6/50\n",
      "139623/139623 [==============================] - 21s 152us/step - loss: 6.6370 - accuracy: 0.0701 - val_loss: 6.7676 - val_accuracy: 0.0725\n",
      "Epoch 7/50\n",
      "139623/139623 [==============================] - 21s 152us/step - loss: 6.5473 - accuracy: 0.0775 - val_loss: 6.7090 - val_accuracy: 0.0836\n",
      "Epoch 8/50\n",
      "139623/139623 [==============================] - 21s 152us/step - loss: 6.4678 - accuracy: 0.0850 - val_loss: 6.6527 - val_accuracy: 0.0861\n",
      "Epoch 9/50\n",
      "139623/139623 [==============================] - 21s 152us/step - loss: 6.3797 - accuracy: 0.0899 - val_loss: 6.5818 - val_accuracy: 0.0939\n",
      "Epoch 10/50\n",
      "139623/139623 [==============================] - 21s 152us/step - loss: 6.2912 - accuracy: 0.0973 - val_loss: 6.5445 - val_accuracy: 0.1027\n",
      "Epoch 11/50\n",
      "139623/139623 [==============================] - 21s 152us/step - loss: 6.2193 - accuracy: 0.1041 - val_loss: 6.5234 - val_accuracy: 0.1046\n",
      "Epoch 12/50\n",
      "139623/139623 [==============================] - 21s 151us/step - loss: 6.1537 - accuracy: 0.1097 - val_loss: 6.4975 - val_accuracy: 0.1105\n",
      "Epoch 13/50\n",
      "139623/139623 [==============================] - 21s 151us/step - loss: 6.0894 - accuracy: 0.1154 - val_loss: 6.4639 - val_accuracy: 0.1112\n",
      "Epoch 14/50\n",
      "139623/139623 [==============================] - 21s 151us/step - loss: 6.0108 - accuracy: 0.1212 - val_loss: 6.4237 - val_accuracy: 0.1187\n",
      "Epoch 15/50\n",
      "139623/139623 [==============================] - 21s 153us/step - loss: 5.9375 - accuracy: 0.1268 - val_loss: 6.3891 - val_accuracy: 0.1226\n",
      "Epoch 16/50\n",
      "139623/139623 [==============================] - 21s 152us/step - loss: 5.8674 - accuracy: 0.1317 - val_loss: 6.3705 - val_accuracy: 0.1277\n",
      "Epoch 17/50\n",
      "139623/139623 [==============================] - 21s 152us/step - loss: 5.8056 - accuracy: 0.1364 - val_loss: 6.3478 - val_accuracy: 0.1275\n",
      "Epoch 18/50\n",
      "139623/139623 [==============================] - 21s 151us/step - loss: 5.7439 - accuracy: 0.1417 - val_loss: 6.3309 - val_accuracy: 0.1336\n",
      "Epoch 19/50\n",
      "139623/139623 [==============================] - 21s 151us/step - loss: 5.6800 - accuracy: 0.1463 - val_loss: 6.3076 - val_accuracy: 0.1368\n",
      "Epoch 20/50\n",
      "139623/139623 [==============================] - 21s 152us/step - loss: 5.6141 - accuracy: 0.1500 - val_loss: 6.2855 - val_accuracy: 0.1399\n",
      "Epoch 21/50\n",
      "139623/139623 [==============================] - 21s 151us/step - loss: 5.5539 - accuracy: 0.1538 - val_loss: 6.2680 - val_accuracy: 0.1424\n",
      "Epoch 22/50\n",
      "139623/139623 [==============================] - 21s 149us/step - loss: 5.4915 - accuracy: 0.1579 - val_loss: 6.2626 - val_accuracy: 0.1454\n",
      "Epoch 23/50\n",
      "139623/139623 [==============================] - 21s 151us/step - loss: 5.4324 - accuracy: 0.1619 - val_loss: 6.2468 - val_accuracy: 0.1484\n",
      "Epoch 24/50\n",
      "139623/139623 [==============================] - 21s 151us/step - loss: 5.3757 - accuracy: 0.1656 - val_loss: 6.2596 - val_accuracy: 0.1509\n",
      "Epoch 25/50\n",
      "139623/139623 [==============================] - 21s 151us/step - loss: 5.3209 - accuracy: 0.1698 - val_loss: 6.2496 - val_accuracy: 0.1524\n",
      "Epoch 26/50\n",
      "139623/139623 [==============================] - 21s 152us/step - loss: 5.2709 - accuracy: 0.1727 - val_loss: 6.2376 - val_accuracy: 0.1544\n",
      "Epoch 27/50\n",
      "139623/139623 [==============================] - 21s 151us/step - loss: 5.2175 - accuracy: 0.1776 - val_loss: 6.2594 - val_accuracy: 0.1549\n",
      "Epoch 28/50\n",
      "139623/139623 [==============================] - 21s 151us/step - loss: 5.1696 - accuracy: 0.1804 - val_loss: 6.2619 - val_accuracy: 0.1570\n",
      "Epoch 29/50\n",
      "139623/139623 [==============================] - 21s 151us/step - loss: 5.1215 - accuracy: 0.1836 - val_loss: 6.2728 - val_accuracy: 0.1585\n",
      "Epoch 30/50\n",
      "139623/139623 [==============================] - 21s 153us/step - loss: 5.0800 - accuracy: 0.1848 - val_loss: 6.2591 - val_accuracy: 0.1598\n",
      "Epoch 31/50\n",
      "139623/139623 [==============================] - 21s 152us/step - loss: 5.0320 - accuracy: 0.1888 - val_loss: 6.2822 - val_accuracy: 0.1609\n",
      "Epoch 32/50\n",
      "139623/139623 [==============================] - 21s 150us/step - loss: 4.9901 - accuracy: 0.1907 - val_loss: 6.2916 - val_accuracy: 0.1614\n",
      "Epoch 33/50\n",
      "139623/139623 [==============================] - 21s 150us/step - loss: 4.9429 - accuracy: 0.1948 - val_loss: 6.2949 - val_accuracy: 0.1615\n",
      "Epoch 34/50\n",
      "139623/139623 [==============================] - 21s 148us/step - loss: 4.9020 - accuracy: 0.1977 - val_loss: 6.3196 - val_accuracy: 0.1647\n",
      "Epoch 35/50\n",
      "139623/139623 [==============================] - 21s 150us/step - loss: 4.8613 - accuracy: 0.1990 - val_loss: 6.3395 - val_accuracy: 0.1645\n",
      "Epoch 36/50\n",
      "139623/139623 [==============================] - 21s 151us/step - loss: 4.8220 - accuracy: 0.2011 - val_loss: 6.3595 - val_accuracy: 0.1659\n",
      "Epoch 37/50\n",
      "139623/139623 [==============================] - 21s 151us/step - loss: 4.7853 - accuracy: 0.2041 - val_loss: 6.3795 - val_accuracy: 0.1675\n",
      "Epoch 38/50\n",
      "139623/139623 [==============================] - 21s 149us/step - loss: 4.7409 - accuracy: 0.2067 - val_loss: 6.3791 - val_accuracy: 0.1685\n",
      "Epoch 39/50\n",
      "139623/139623 [==============================] - 21s 150us/step - loss: 4.7045 - accuracy: 0.2078 - val_loss: 6.4014 - val_accuracy: 0.1690\n",
      "Epoch 40/50\n",
      "139623/139623 [==============================] - 21s 150us/step - loss: 4.6681 - accuracy: 0.2099 - val_loss: 6.4263 - val_accuracy: 0.1690\n",
      "Epoch 41/50\n",
      "139623/139623 [==============================] - 21s 150us/step - loss: 4.6290 - accuracy: 0.2122 - val_loss: 6.4327 - val_accuracy: 0.1707\n",
      "Epoch 42/50\n",
      "139623/139623 [==============================] - 21s 151us/step - loss: 4.5922 - accuracy: 0.2158 - val_loss: 6.4562 - val_accuracy: 0.1705\n",
      "Epoch 43/50\n",
      "139623/139623 [==============================] - 21s 151us/step - loss: 4.5591 - accuracy: 0.2186 - val_loss: 6.5055 - val_accuracy: 0.1720\n",
      "Epoch 44/50\n",
      "139623/139623 [==============================] - 21s 150us/step - loss: 4.5244 - accuracy: 0.2193 - val_loss: 6.4990 - val_accuracy: 0.1727\n",
      "Epoch 45/50\n",
      "139623/139623 [==============================] - 21s 149us/step - loss: 4.4893 - accuracy: 0.2226 - val_loss: 6.5251 - val_accuracy: 0.1733\n",
      "Epoch 46/50\n",
      "139623/139623 [==============================] - 21s 150us/step - loss: 4.4577 - accuracy: 0.2240 - val_loss: 6.5435 - val_accuracy: 0.1735\n",
      "Epoch 47/50\n",
      "139623/139623 [==============================] - 21s 150us/step - loss: 4.4225 - accuracy: 0.2270 - val_loss: 6.5579 - val_accuracy: 0.1753\n",
      "Epoch 48/50\n",
      "139623/139623 [==============================] - 21s 150us/step - loss: 4.3884 - accuracy: 0.2282 - val_loss: 6.5907 - val_accuracy: 0.1758\n",
      "Epoch 49/50\n",
      "139623/139623 [==============================] - 21s 151us/step - loss: 4.3549 - accuracy: 0.2310 - val_loss: 6.5996 - val_accuracy: 0.1769\n",
      "Epoch 50/50\n",
      "139623/139623 [==============================] - 21s 151us/step - loss: 4.3281 - accuracy: 0.2334 - val_loss: 6.6767 - val_accuracy: 0.1770\n"
     ]
    }
   ],
   "source": [
    "train_history = utils.train_model(\n",
    "    training_dict,\n",
    "    f'{content_type}_uni-1_layer-trainable-50_seq',\n",
    "    model=model,\n",
    "    # use_pretrained_model=True,\n",
    "    epochs=50\n",
    ")"
   ]
  },
  {
   "cell_type": "code",
   "execution_count": null,
   "metadata": {
    "colab": {},
    "colab_type": "code",
    "id": "_mX48A8-HkUl"
   },
   "outputs": [],
   "source": [
    "train_history"
   ]
  },
  {
   "cell_type": "markdown",
   "metadata": {
    "colab_type": "text",
    "id": "NoT-8fSLBUH3"
   },
   "source": [
    "#### Bidirectional, 1 layer, Trainable"
   ]
  },
  {
   "cell_type": "code",
   "execution_count": 100,
   "metadata": {
    "colab": {},
    "colab_type": "code",
    "id": "bkunb88pBUH3"
   },
   "outputs": [],
   "source": [
    "model = utils.make_word_level_model(\n",
    "    num_words,\n",
    "    embedding_matrix,\n",
    "    lstm_cells=64,\n",
    "    trainable=True,\n",
    "    lstm_layers=1,\n",
    "    bi_direc=True\n",
    ")"
   ]
  },
  {
   "cell_type": "code",
   "execution_count": 101,
   "metadata": {
    "colab": {
     "base_uri": "https://localhost:8080/",
     "height": 1000
    },
    "colab_type": "code",
    "id": "IM76c-C0BUH5",
    "outputId": "709f0172-e82f-44c5-d975-1e3e7cad1e17"
   },
   "outputs": [
    {
     "name": "stderr",
     "output_type": "stream",
     "text": [
      "/usr/local/lib/python3.6/dist-packages/tensorflow/python/framework/indexed_slices.py:434: UserWarning: Converting sparse IndexedSlices to a dense Tensor of unknown shape. This may consume a large amount of memory.\n",
      "  \"Converting sparse IndexedSlices to a dense Tensor of unknown shape. \"\n"
     ]
    },
    {
     "name": "stdout",
     "output_type": "stream",
     "text": [
      "Train on 139623 samples, validate on 59839 samples\n",
      "Epoch 1/50\n",
      "139623/139623 [==============================] - 34s 241us/step - loss: 7.6994 - accuracy: 0.0339 - val_loss: 6.9884 - val_accuracy: 0.0451\n",
      "Epoch 2/50\n",
      "139623/139623 [==============================] - 33s 238us/step - loss: 6.9442 - accuracy: 0.0447 - val_loss: 6.9337 - val_accuracy: 0.0453\n",
      "Epoch 3/50\n",
      "139623/139623 [==============================] - 33s 239us/step - loss: 6.8310 - accuracy: 0.0469 - val_loss: 6.8793 - val_accuracy: 0.0659\n",
      "Epoch 4/50\n",
      "139623/139623 [==============================] - 33s 238us/step - loss: 6.7408 - accuracy: 0.0610 - val_loss: 6.8265 - val_accuracy: 0.0688\n",
      "Epoch 5/50\n",
      "139623/139623 [==============================] - 33s 240us/step - loss: 6.6437 - accuracy: 0.0699 - val_loss: 6.7638 - val_accuracy: 0.0752\n",
      "Epoch 6/50\n",
      "139623/139623 [==============================] - 33s 237us/step - loss: 6.5511 - accuracy: 0.0771 - val_loss: 6.7014 - val_accuracy: 0.0818\n",
      "Epoch 7/50\n",
      "139623/139623 [==============================] - 34s 240us/step - loss: 6.4436 - accuracy: 0.0848 - val_loss: 6.6261 - val_accuracy: 0.0889\n",
      "Epoch 8/50\n",
      "139623/139623 [==============================] - 34s 240us/step - loss: 6.3439 - accuracy: 0.0910 - val_loss: 6.5819 - val_accuracy: 0.0949\n",
      "Epoch 9/50\n",
      "139623/139623 [==============================] - 34s 242us/step - loss: 6.2622 - accuracy: 0.0975 - val_loss: 6.5577 - val_accuracy: 0.1010\n",
      "Epoch 10/50\n",
      "139623/139623 [==============================] - 33s 238us/step - loss: 6.1915 - accuracy: 0.1033 - val_loss: 6.5368 - val_accuracy: 0.1046\n",
      "Epoch 11/50\n",
      "139623/139623 [==============================] - 34s 241us/step - loss: 6.1231 - accuracy: 0.1083 - val_loss: 6.5201 - val_accuracy: 0.1093\n",
      "Epoch 12/50\n",
      "139623/139623 [==============================] - 33s 238us/step - loss: 6.0517 - accuracy: 0.1133 - val_loss: 6.4850 - val_accuracy: 0.1124\n",
      "Epoch 13/50\n",
      "139623/139623 [==============================] - 33s 237us/step - loss: 5.9747 - accuracy: 0.1190 - val_loss: 6.4531 - val_accuracy: 0.1164\n",
      "Epoch 14/50\n",
      "139623/139623 [==============================] - 33s 237us/step - loss: 5.8992 - accuracy: 0.1234 - val_loss: 6.4348 - val_accuracy: 0.1163\n",
      "Epoch 15/50\n",
      "139623/139623 [==============================] - 33s 238us/step - loss: 5.8300 - accuracy: 0.1272 - val_loss: 6.4099 - val_accuracy: 0.1229\n",
      "Epoch 16/50\n",
      "139623/139623 [==============================] - 33s 238us/step - loss: 5.7603 - accuracy: 0.1328 - val_loss: 6.3888 - val_accuracy: 0.1281\n",
      "Epoch 17/50\n",
      "139623/139623 [==============================] - 33s 237us/step - loss: 5.6963 - accuracy: 0.1380 - val_loss: 6.3710 - val_accuracy: 0.1312\n",
      "Epoch 18/50\n",
      "139623/139623 [==============================] - 33s 237us/step - loss: 5.6365 - accuracy: 0.1421 - val_loss: 6.3546 - val_accuracy: 0.1323\n",
      "Epoch 19/50\n",
      "139623/139623 [==============================] - 33s 236us/step - loss: 5.5783 - accuracy: 0.1459 - val_loss: 6.3447 - val_accuracy: 0.1368\n",
      "Epoch 20/50\n",
      "139623/139623 [==============================] - 33s 236us/step - loss: 5.5185 - accuracy: 0.1507 - val_loss: 6.3510 - val_accuracy: 0.1377\n",
      "Epoch 21/50\n",
      "139623/139623 [==============================] - 33s 238us/step - loss: 5.4595 - accuracy: 0.1533 - val_loss: 6.3400 - val_accuracy: 0.1414\n",
      "Epoch 22/50\n",
      "139623/139623 [==============================] - 33s 239us/step - loss: 5.4005 - accuracy: 0.1589 - val_loss: 6.3485 - val_accuracy: 0.1436\n",
      "Epoch 23/50\n",
      "139623/139623 [==============================] - 33s 236us/step - loss: 5.3498 - accuracy: 0.1609 - val_loss: 6.3559 - val_accuracy: 0.1443\n",
      "Epoch 24/50\n",
      "139623/139623 [==============================] - 33s 235us/step - loss: 5.2938 - accuracy: 0.1641 - val_loss: 6.3508 - val_accuracy: 0.1462\n",
      "Epoch 25/50\n",
      "139623/139623 [==============================] - 33s 236us/step - loss: 5.2422 - accuracy: 0.1667 - val_loss: 6.3463 - val_accuracy: 0.1475\n",
      "Epoch 26/50\n",
      "139623/139623 [==============================] - 33s 236us/step - loss: 5.1879 - accuracy: 0.1698 - val_loss: 6.3531 - val_accuracy: 0.1484\n",
      "Epoch 27/50\n",
      "139623/139623 [==============================] - 33s 237us/step - loss: 5.1381 - accuracy: 0.1729 - val_loss: 6.3907 - val_accuracy: 0.1498\n",
      "Epoch 28/50\n",
      "139623/139623 [==============================] - 33s 237us/step - loss: 5.0913 - accuracy: 0.1763 - val_loss: 6.4207 - val_accuracy: 0.1499\n",
      "Epoch 29/50\n",
      "139623/139623 [==============================] - 33s 238us/step - loss: 5.0495 - accuracy: 0.1766 - val_loss: 6.3616 - val_accuracy: 0.1507\n",
      "Epoch 30/50\n",
      "139623/139623 [==============================] - 33s 236us/step - loss: 5.0063 - accuracy: 0.1796 - val_loss: 6.3889 - val_accuracy: 0.1517\n",
      "Epoch 31/50\n",
      "139623/139623 [==============================] - 33s 240us/step - loss: 4.9634 - accuracy: 0.1815 - val_loss: 6.4321 - val_accuracy: 0.1525\n",
      "Epoch 32/50\n",
      "139623/139623 [==============================] - 33s 238us/step - loss: 4.9195 - accuracy: 0.1848 - val_loss: 6.4526 - val_accuracy: 0.1539\n",
      "Epoch 33/50\n",
      "139623/139623 [==============================] - 33s 238us/step - loss: 4.8795 - accuracy: 0.1869 - val_loss: 6.4404 - val_accuracy: 0.1531\n",
      "Epoch 34/50\n",
      "139623/139623 [==============================] - 33s 236us/step - loss: 4.8389 - accuracy: 0.1889 - val_loss: 6.4626 - val_accuracy: 0.1557\n",
      "Epoch 35/50\n",
      "139623/139623 [==============================] - 33s 236us/step - loss: 4.8020 - accuracy: 0.1922 - val_loss: 6.5350 - val_accuracy: 0.1560\n",
      "Epoch 36/50\n",
      "139623/139623 [==============================] - 33s 237us/step - loss: 4.7619 - accuracy: 0.1939 - val_loss: 6.5410 - val_accuracy: 0.1561\n",
      "Epoch 37/50\n",
      "139623/139623 [==============================] - 33s 239us/step - loss: 4.7265 - accuracy: 0.1965 - val_loss: 6.5101 - val_accuracy: 0.1578\n",
      "Epoch 38/50\n",
      "139623/139623 [==============================] - 33s 238us/step - loss: 4.6875 - accuracy: 0.1986 - val_loss: 6.5789 - val_accuracy: 0.1582\n",
      "Epoch 39/50\n",
      "139623/139623 [==============================] - 33s 236us/step - loss: 4.6489 - accuracy: 0.2004 - val_loss: 6.5579 - val_accuracy: 0.1587\n",
      "Epoch 40/50\n",
      "139623/139623 [==============================] - 33s 238us/step - loss: 4.6169 - accuracy: 0.2036 - val_loss: 6.6104 - val_accuracy: 0.1598\n",
      "Epoch 41/50\n",
      "139623/139623 [==============================] - 33s 238us/step - loss: 4.5748 - accuracy: 0.2062 - val_loss: 6.6280 - val_accuracy: 0.1596\n",
      "Epoch 42/50\n",
      "139623/139623 [==============================] - 33s 237us/step - loss: 4.5354 - accuracy: 0.2091 - val_loss: 6.6491 - val_accuracy: 0.1613\n",
      "Epoch 43/50\n",
      "139623/139623 [==============================] - 33s 234us/step - loss: 4.5080 - accuracy: 0.2090 - val_loss: 6.6567 - val_accuracy: 0.1614\n",
      "Epoch 44/50\n",
      "139623/139623 [==============================] - 33s 237us/step - loss: 4.4745 - accuracy: 0.2119 - val_loss: 6.7138 - val_accuracy: 0.1609\n",
      "Epoch 45/50\n",
      "139623/139623 [==============================] - 33s 237us/step - loss: 4.4411 - accuracy: 0.2142 - val_loss: 6.7075 - val_accuracy: 0.1633\n",
      "Epoch 46/50\n",
      "139623/139623 [==============================] - 33s 234us/step - loss: 4.4081 - accuracy: 0.2173 - val_loss: 6.7151 - val_accuracy: 0.1633\n",
      "Epoch 47/50\n",
      "139623/139623 [==============================] - 33s 237us/step - loss: 4.3778 - accuracy: 0.2192 - val_loss: 6.7616 - val_accuracy: 0.1650\n",
      "Epoch 48/50\n",
      "139623/139623 [==============================] - 33s 235us/step - loss: 4.3444 - accuracy: 0.2219 - val_loss: 6.7722 - val_accuracy: 0.1646\n",
      "Epoch 49/50\n",
      "139623/139623 [==============================] - 33s 236us/step - loss: 4.3132 - accuracy: 0.2240 - val_loss: 6.8374 - val_accuracy: 0.1651\n",
      "Epoch 50/50\n",
      "139623/139623 [==============================] - 33s 238us/step - loss: 4.2784 - accuracy: 0.2263 - val_loss: 6.9115 - val_accuracy: 0.1669\n"
     ]
    }
   ],
   "source": [
    "history = utils.train_model(\n",
    "    training_dict,\n",
    "    f'{content_type}_bi-1_layer-trainable-50_seq',\n",
    "    model=model,\n",
    "    # use_pretrained_model=True,\n",
    "    epochs=50\n",
    ")"
   ]
  },
  {
   "cell_type": "markdown",
   "metadata": {
    "colab_type": "text",
    "id": "7jTtRx-nX8Ol"
   },
   "source": [
    "### Short Text"
   ]
  },
  {
   "cell_type": "code",
   "execution_count": 9,
   "metadata": {
    "colab": {
     "base_uri": "https://localhost:8080/",
     "height": 51
    },
    "colab_type": "code",
    "id": "UvyKn6MjXaXY",
    "outputId": "c23cad34-fa2e-4413-d71a-d69d58882852"
   },
   "outputs": [
    {
     "name": "stdout",
     "output_type": "stream",
     "text": [
      "There are 15491 unique words.\n",
      "There are 211492 sequences.\n"
     ]
    }
   ],
   "source": [
    "training_dict, word_idx, idx_word, sequences, num_words = utils.get_data(text, training_len=20)"
   ]
  },
  {
   "cell_type": "code",
   "execution_count": 10,
   "metadata": {
    "colab": {
     "base_uri": "https://localhost:8080/",
     "height": 326
    },
    "colab_type": "code",
    "id": "zp7d0n2qXkuL",
    "outputId": "dad6d62e-9f7e-46f0-dc7e-d831585ccda3"
   },
   "outputs": [
    {
     "name": "stdout",
     "output_type": "stream",
     "text": [
      "Glove Vectors loading with dimension 100\n",
      "There were 5692 words without pre-trained embeddings.\n"
     ]
    },
    {
     "name": "stderr",
     "output_type": "stream",
     "text": [
      "/content/drive/My Drive/Code/autocomplete_me/src/utils.py:175: RuntimeWarning: invalid value encountered in true_divide\n",
      "  embedding_matrix = embedding_matrix / np.linalg.norm(embedding_matrix, axis=1).reshape((-1, 1))\n"
     ]
    },
    {
     "data": {
      "text/plain": [
       "array([[ 0.        ,  0.        ,  0.        , ...,  0.        ,\n",
       "         0.        ,  0.        ],\n",
       "       [-0.00656124, -0.04206555,  0.12508174, ..., -0.02506376,\n",
       "         0.14220549,  0.04648907],\n",
       "       [-0.06223089,  0.03835242,  0.08488411, ..., -0.04284497,\n",
       "         0.08662399, -0.00527513],\n",
       "       ...,\n",
       "       [-0.00346489, -0.08874972, -0.20891733, ...,  0.09497839,\n",
       "        -0.12697276, -0.08340222],\n",
       "       [-0.02349926, -0.06641477, -0.01852101, ...,  0.07821092,\n",
       "         0.12694902,  0.1010958 ],\n",
       "       [ 0.02721107,  0.00886596,  0.24643607, ...,  0.02826212,\n",
       "         0.23311737,  0.06475616]])"
      ]
     },
     "execution_count": 10,
     "metadata": {
      "tags": []
     },
     "output_type": "execute_result"
    }
   ],
   "source": [
    "# embedding_matrix = utils.create_embedding_matrix(word_idx, num_words, '/Users/jaipancholi/data/glove.6B.100d.txt')\n",
    "embedding_matrix = utils.create_embedding_matrix(word_idx, num_words, '/content/drive/My Drive/Code/autocomplete_me/data/glove.6B.100d.txt')\n",
    "embedding_matrix"
   ]
  },
  {
   "cell_type": "markdown",
   "metadata": {
    "colab_type": "text",
    "id": "nNBVjcVpvAKp"
   },
   "source": [
    "#### Bidirectional, 2 layers, Trainable"
   ]
  },
  {
   "cell_type": "code",
   "execution_count": 11,
   "metadata": {
    "colab": {},
    "colab_type": "code",
    "id": "sJIKV_8gXcDR"
   },
   "outputs": [],
   "source": [
    "model = utils.make_word_level_model(\n",
    "    num_words,\n",
    "    embedding_matrix,\n",
    "    lstm_cells=64,\n",
    "    trainable=True,\n",
    "    lstm_layers=2,\n",
    "    bi_direc=True\n",
    ")"
   ]
  },
  {
   "cell_type": "code",
   "execution_count": 12,
   "metadata": {
    "colab": {
     "base_uri": "https://localhost:8080/",
     "height": 1000
    },
    "colab_type": "code",
    "id": "iHTZkqCKXcK4",
    "outputId": "833ed407-484f-4dd3-e9ec-70793a6bc4c8"
   },
   "outputs": [
    {
     "name": "stderr",
     "output_type": "stream",
     "text": [
      "/usr/local/lib/python3.6/dist-packages/tensorflow/python/framework/indexed_slices.py:434: UserWarning: Converting sparse IndexedSlices to a dense Tensor of unknown shape. This may consume a large amount of memory.\n",
      "  \"Converting sparse IndexedSlices to a dense Tensor of unknown shape. \"\n"
     ]
    },
    {
     "name": "stdout",
     "output_type": "stream",
     "text": [
      "Train on 148044 samples, validate on 63448 samples\n",
      "Epoch 1/50\n",
      "148044/148044 [==============================] - 25s 171us/step - loss: 7.6587 - accuracy: 0.0365 - val_loss: 6.9924 - val_accuracy: 0.0453\n",
      "Epoch 2/50\n",
      "148044/148044 [==============================] - 23s 153us/step - loss: 6.9763 - accuracy: 0.0437 - val_loss: 7.0038 - val_accuracy: 0.0445\n",
      "Epoch 3/50\n",
      "148044/148044 [==============================] - 23s 154us/step - loss: 6.9281 - accuracy: 0.0443 - val_loss: 6.9272 - val_accuracy: 0.0484\n",
      "Epoch 4/50\n",
      "148044/148044 [==============================] - 23s 154us/step - loss: 6.8086 - accuracy: 0.0531 - val_loss: 6.8809 - val_accuracy: 0.0675\n",
      "Epoch 5/50\n",
      "148044/148044 [==============================] - 23s 154us/step - loss: 6.7147 - accuracy: 0.0663 - val_loss: 6.8137 - val_accuracy: 0.0731\n",
      "Epoch 6/50\n",
      "148044/148044 [==============================] - 22s 151us/step - loss: 6.6291 - accuracy: 0.0723 - val_loss: 6.7644 - val_accuracy: 0.0837\n",
      "Epoch 7/50\n",
      "148044/148044 [==============================] - 23s 153us/step - loss: 6.5571 - accuracy: 0.0801 - val_loss: 6.7270 - val_accuracy: 0.0841\n",
      "Epoch 8/50\n",
      "148044/148044 [==============================] - 23s 153us/step - loss: 6.4950 - accuracy: 0.0833 - val_loss: 6.6991 - val_accuracy: 0.0856\n",
      "Epoch 9/50\n",
      "148044/148044 [==============================] - 23s 152us/step - loss: 6.4311 - accuracy: 0.0860 - val_loss: 6.6674 - val_accuracy: 0.0874\n",
      "Epoch 10/50\n",
      "148044/148044 [==============================] - 23s 153us/step - loss: 6.3621 - accuracy: 0.0884 - val_loss: 6.6370 - val_accuracy: 0.0883\n",
      "Epoch 11/50\n",
      "148044/148044 [==============================] - 22s 151us/step - loss: 6.2913 - accuracy: 0.0893 - val_loss: 6.6062 - val_accuracy: 0.0918\n",
      "Epoch 12/50\n",
      "148044/148044 [==============================] - 22s 150us/step - loss: 6.2272 - accuracy: 0.0932 - val_loss: 6.5947 - val_accuracy: 0.0964\n",
      "Epoch 13/50\n",
      "148044/148044 [==============================] - 22s 149us/step - loss: 6.1723 - accuracy: 0.0970 - val_loss: 6.5710 - val_accuracy: 0.1002\n",
      "Epoch 14/50\n",
      "148044/148044 [==============================] - 22s 149us/step - loss: 6.1226 - accuracy: 0.1022 - val_loss: 6.5829 - val_accuracy: 0.1038\n",
      "Epoch 15/50\n",
      "148044/148044 [==============================] - 22s 147us/step - loss: 6.0742 - accuracy: 0.1068 - val_loss: 6.5588 - val_accuracy: 0.1073\n",
      "Epoch 16/50\n",
      "148044/148044 [==============================] - 22s 150us/step - loss: 6.0242 - accuracy: 0.1101 - val_loss: 6.5496 - val_accuracy: 0.1100\n",
      "Epoch 17/50\n",
      "148044/148044 [==============================] - 22s 152us/step - loss: 5.9729 - accuracy: 0.1152 - val_loss: 6.5360 - val_accuracy: 0.1107\n",
      "Epoch 18/50\n",
      "148044/148044 [==============================] - 22s 152us/step - loss: 5.9254 - accuracy: 0.1175 - val_loss: 6.5191 - val_accuracy: 0.1136\n",
      "Epoch 19/50\n",
      "148044/148044 [==============================] - 22s 152us/step - loss: 5.8797 - accuracy: 0.1198 - val_loss: 6.5296 - val_accuracy: 0.1138\n",
      "Epoch 20/50\n",
      "148044/148044 [==============================] - 22s 150us/step - loss: 5.8310 - accuracy: 0.1222 - val_loss: 6.5160 - val_accuracy: 0.1176\n",
      "Epoch 21/50\n",
      "148044/148044 [==============================] - 22s 150us/step - loss: 5.7864 - accuracy: 0.1261 - val_loss: 6.5319 - val_accuracy: 0.1187\n",
      "Epoch 22/50\n",
      "148044/148044 [==============================] - 22s 151us/step - loss: 5.7428 - accuracy: 0.1283 - val_loss: 6.5168 - val_accuracy: 0.1200\n",
      "Epoch 23/50\n",
      "148044/148044 [==============================] - 22s 149us/step - loss: 5.6977 - accuracy: 0.1310 - val_loss: 6.5147 - val_accuracy: 0.1238\n",
      "Epoch 24/50\n",
      "148044/148044 [==============================] - 22s 149us/step - loss: 5.6606 - accuracy: 0.1338 - val_loss: 6.5196 - val_accuracy: 0.1236\n",
      "Epoch 25/50\n",
      "148044/148044 [==============================] - 22s 147us/step - loss: 5.6262 - accuracy: 0.1361 - val_loss: 6.5275 - val_accuracy: 0.1248\n",
      "Epoch 26/50\n",
      "148044/148044 [==============================] - 22s 147us/step - loss: 5.5873 - accuracy: 0.1381 - val_loss: 6.5433 - val_accuracy: 0.1278\n",
      "Epoch 27/50\n",
      "148044/148044 [==============================] - 22s 150us/step - loss: 5.5523 - accuracy: 0.1397 - val_loss: 6.5578 - val_accuracy: 0.1284\n",
      "Epoch 28/50\n",
      "148044/148044 [==============================] - 22s 148us/step - loss: 5.5204 - accuracy: 0.1426 - val_loss: 6.5580 - val_accuracy: 0.1288\n",
      "Epoch 29/50\n",
      "148044/148044 [==============================] - 22s 148us/step - loss: 5.4876 - accuracy: 0.1434 - val_loss: 6.5726 - val_accuracy: 0.1304\n",
      "Epoch 30/50\n",
      "148044/148044 [==============================] - 22s 147us/step - loss: 5.4593 - accuracy: 0.1453 - val_loss: 6.5788 - val_accuracy: 0.1309\n",
      "Epoch 31/50\n",
      "148044/148044 [==============================] - 22s 146us/step - loss: 5.4280 - accuracy: 0.1467 - val_loss: 6.5983 - val_accuracy: 0.1320\n",
      "Epoch 32/50\n",
      "148044/148044 [==============================] - 22s 149us/step - loss: 5.3987 - accuracy: 0.1490 - val_loss: 6.6276 - val_accuracy: 0.1326\n",
      "Epoch 33/50\n",
      "148044/148044 [==============================] - 22s 146us/step - loss: 5.3712 - accuracy: 0.1499 - val_loss: 6.6108 - val_accuracy: 0.1330\n",
      "Epoch 34/50\n",
      "148044/148044 [==============================] - 22s 148us/step - loss: 5.3439 - accuracy: 0.1516 - val_loss: 6.6256 - val_accuracy: 0.1349\n",
      "Epoch 35/50\n",
      "148044/148044 [==============================] - 22s 147us/step - loss: 5.3149 - accuracy: 0.1533 - val_loss: 6.6341 - val_accuracy: 0.1356\n",
      "Epoch 36/50\n",
      "148044/148044 [==============================] - 22s 147us/step - loss: 5.2889 - accuracy: 0.1545 - val_loss: 6.6551 - val_accuracy: 0.1363\n",
      "Epoch 37/50\n",
      "148044/148044 [==============================] - 22s 148us/step - loss: 5.2588 - accuracy: 0.1568 - val_loss: 6.6656 - val_accuracy: 0.1363\n",
      "Epoch 38/50\n",
      "148044/148044 [==============================] - 22s 147us/step - loss: 5.2290 - accuracy: 0.1582 - val_loss: 6.6532 - val_accuracy: 0.1370\n",
      "Epoch 39/50\n",
      "148044/148044 [==============================] - 22s 147us/step - loss: 5.2063 - accuracy: 0.1605 - val_loss: 6.6829 - val_accuracy: 0.1386\n",
      "Epoch 40/50\n",
      "148044/148044 [==============================] - 22s 147us/step - loss: 5.1784 - accuracy: 0.1606 - val_loss: 6.6864 - val_accuracy: 0.1389\n",
      "Epoch 41/50\n",
      "148044/148044 [==============================] - 22s 147us/step - loss: 5.1527 - accuracy: 0.1638 - val_loss: 6.6908 - val_accuracy: 0.1399\n",
      "Epoch 42/50\n",
      "148044/148044 [==============================] - 22s 148us/step - loss: 5.1288 - accuracy: 0.1648 - val_loss: 6.7359 - val_accuracy: 0.1422\n",
      "Epoch 43/50\n",
      "148044/148044 [==============================] - 22s 146us/step - loss: 5.1034 - accuracy: 0.1657 - val_loss: 6.7216 - val_accuracy: 0.1426\n",
      "Epoch 44/50\n",
      "148044/148044 [==============================] - 21s 144us/step - loss: 5.0762 - accuracy: 0.1677 - val_loss: 6.7343 - val_accuracy: 0.1428\n",
      "Epoch 45/50\n",
      "148044/148044 [==============================] - 22s 146us/step - loss: 5.0560 - accuracy: 0.1691 - val_loss: 6.7963 - val_accuracy: 0.1442\n",
      "Epoch 46/50\n",
      "148044/148044 [==============================] - 22s 147us/step - loss: 5.0271 - accuracy: 0.1705 - val_loss: 6.7577 - val_accuracy: 0.1426\n",
      "Epoch 47/50\n",
      "148044/148044 [==============================] - 22s 147us/step - loss: 5.0079 - accuracy: 0.1720 - val_loss: 6.7640 - val_accuracy: 0.1439\n",
      "Epoch 48/50\n",
      "148044/148044 [==============================] - 22s 146us/step - loss: 4.9803 - accuracy: 0.1740 - val_loss: 6.8079 - val_accuracy: 0.1451\n",
      "Epoch 49/50\n",
      "148044/148044 [==============================] - 22s 148us/step - loss: 4.9609 - accuracy: 0.1741 - val_loss: 6.7851 - val_accuracy: 0.1450\n",
      "Epoch 50/50\n",
      "148044/148044 [==============================] - 21s 145us/step - loss: 4.9394 - accuracy: 0.1761 - val_loss: 6.8365 - val_accuracy: 0.1451\n"
     ]
    }
   ],
   "source": [
    "history = utils.train_model(\n",
    "    training_dict,\n",
    "    f'{content_type}_bi-2_layer-trainable-20_seq',\n",
    "    model=model,\n",
    "    # use_pretrained_model=True,\n",
    "    epochs=50\n",
    ")"
   ]
  },
  {
   "cell_type": "markdown",
   "metadata": {
    "colab_type": "text",
    "id": "yO9SeBF0vGRb"
   },
   "source": [
    "#### Unidirectional, 1 layer, Trainable"
   ]
  },
  {
   "cell_type": "code",
   "execution_count": 13,
   "metadata": {
    "colab": {},
    "colab_type": "code",
    "id": "jFcGJJduuqw-"
   },
   "outputs": [],
   "source": [
    "model = utils.make_word_level_model(\n",
    "    num_words,\n",
    "    embedding_matrix,\n",
    "    lstm_cells=64,\n",
    "    trainable=True,\n",
    "    lstm_layers=1,\n",
    "    bi_direc=False\n",
    ")"
   ]
  },
  {
   "cell_type": "code",
   "execution_count": 15,
   "metadata": {
    "colab": {
     "base_uri": "https://localhost:8080/",
     "height": 1000
    },
    "colab_type": "code",
    "id": "EycVkVjAutzw",
    "outputId": "d25adad8-9b71-4145-e58a-c53c63a919c4"
   },
   "outputs": [
    {
     "name": "stderr",
     "output_type": "stream",
     "text": [
      "/usr/local/lib/python3.6/dist-packages/tensorflow/python/framework/indexed_slices.py:434: UserWarning: Converting sparse IndexedSlices to a dense Tensor of unknown shape. This may consume a large amount of memory.\n",
      "  \"Converting sparse IndexedSlices to a dense Tensor of unknown shape. \"\n"
     ]
    },
    {
     "name": "stdout",
     "output_type": "stream",
     "text": [
      "Train on 148044 samples, validate on 63448 samples\n",
      "Epoch 1/50\n",
      "148044/148044 [==============================] - 16s 107us/step - loss: 7.7753 - accuracy: 0.0337 - val_loss: 6.9823 - val_accuracy: 0.0445\n",
      "Epoch 2/50\n",
      "148044/148044 [==============================] - 15s 103us/step - loss: 6.9177 - accuracy: 0.0435 - val_loss: 6.9020 - val_accuracy: 0.0445\n",
      "Epoch 3/50\n",
      "148044/148044 [==============================] - 15s 104us/step - loss: 6.8180 - accuracy: 0.0454 - val_loss: 6.8894 - val_accuracy: 0.0497\n",
      "Epoch 4/50\n",
      "148044/148044 [==============================] - 15s 104us/step - loss: 6.7570 - accuracy: 0.0596 - val_loss: 6.8488 - val_accuracy: 0.0708\n",
      "Epoch 5/50\n",
      "148044/148044 [==============================] - 15s 104us/step - loss: 6.6556 - accuracy: 0.0700 - val_loss: 6.7476 - val_accuracy: 0.0751\n",
      "Epoch 6/50\n",
      "148044/148044 [==============================] - 15s 104us/step - loss: 6.5429 - accuracy: 0.0796 - val_loss: 6.6742 - val_accuracy: 0.0858\n",
      "Epoch 7/50\n",
      "148044/148044 [==============================] - 15s 104us/step - loss: 6.4522 - accuracy: 0.0847 - val_loss: 6.6173 - val_accuracy: 0.0869\n",
      "Epoch 8/50\n",
      "148044/148044 [==============================] - 15s 102us/step - loss: 6.3642 - accuracy: 0.0905 - val_loss: 6.5606 - val_accuracy: 0.1011\n",
      "Epoch 9/50\n",
      "148044/148044 [==============================] - 15s 102us/step - loss: 6.2818 - accuracy: 0.0995 - val_loss: 6.5199 - val_accuracy: 0.1095\n",
      "Epoch 10/50\n",
      "148044/148044 [==============================] - 15s 104us/step - loss: 6.2108 - accuracy: 0.1075 - val_loss: 6.4876 - val_accuracy: 0.1126\n",
      "Epoch 11/50\n",
      "148044/148044 [==============================] - 15s 101us/step - loss: 6.1310 - accuracy: 0.1137 - val_loss: 6.4424 - val_accuracy: 0.1165\n",
      "Epoch 12/50\n",
      "148044/148044 [==============================] - 15s 103us/step - loss: 6.0468 - accuracy: 0.1205 - val_loss: 6.4047 - val_accuracy: 0.1211\n",
      "Epoch 13/50\n",
      "148044/148044 [==============================] - 15s 102us/step - loss: 5.9662 - accuracy: 0.1259 - val_loss: 6.3743 - val_accuracy: 0.1251\n",
      "Epoch 14/50\n",
      "148044/148044 [==============================] - 15s 102us/step - loss: 5.8911 - accuracy: 0.1320 - val_loss: 6.3538 - val_accuracy: 0.1311\n",
      "Epoch 15/50\n",
      "148044/148044 [==============================] - 15s 103us/step - loss: 5.8247 - accuracy: 0.1371 - val_loss: 6.3295 - val_accuracy: 0.1339\n",
      "Epoch 16/50\n",
      "148044/148044 [==============================] - 15s 102us/step - loss: 5.7635 - accuracy: 0.1415 - val_loss: 6.3169 - val_accuracy: 0.1366\n",
      "Epoch 17/50\n",
      "148044/148044 [==============================] - 15s 102us/step - loss: 5.7071 - accuracy: 0.1459 - val_loss: 6.2959 - val_accuracy: 0.1410\n",
      "Epoch 18/50\n",
      "148044/148044 [==============================] - 15s 102us/step - loss: 5.6495 - accuracy: 0.1499 - val_loss: 6.2853 - val_accuracy: 0.1437\n",
      "Epoch 19/50\n",
      "148044/148044 [==============================] - 15s 101us/step - loss: 5.5950 - accuracy: 0.1542 - val_loss: 6.2707 - val_accuracy: 0.1468\n",
      "Epoch 20/50\n",
      "148044/148044 [==============================] - 15s 103us/step - loss: 5.5379 - accuracy: 0.1580 - val_loss: 6.2656 - val_accuracy: 0.1486\n",
      "Epoch 21/50\n",
      "148044/148044 [==============================] - 15s 102us/step - loss: 5.4915 - accuracy: 0.1622 - val_loss: 6.2562 - val_accuracy: 0.1505\n",
      "Epoch 22/50\n",
      "148044/148044 [==============================] - 15s 101us/step - loss: 5.4429 - accuracy: 0.1659 - val_loss: 6.2501 - val_accuracy: 0.1524\n",
      "Epoch 23/50\n",
      "148044/148044 [==============================] - 15s 103us/step - loss: 5.3889 - accuracy: 0.1691 - val_loss: 6.2494 - val_accuracy: 0.1545\n",
      "Epoch 24/50\n",
      "148044/148044 [==============================] - 15s 102us/step - loss: 5.3367 - accuracy: 0.1725 - val_loss: 6.2407 - val_accuracy: 0.1565\n",
      "Epoch 25/50\n",
      "148044/148044 [==============================] - 15s 102us/step - loss: 5.2850 - accuracy: 0.1763 - val_loss: 6.2362 - val_accuracy: 0.1569\n",
      "Epoch 26/50\n",
      "148044/148044 [==============================] - 15s 101us/step - loss: 5.2356 - accuracy: 0.1786 - val_loss: 6.2415 - val_accuracy: 0.1577\n",
      "Epoch 27/50\n",
      "148044/148044 [==============================] - 15s 102us/step - loss: 5.1923 - accuracy: 0.1816 - val_loss: 6.2508 - val_accuracy: 0.1594\n",
      "Epoch 28/50\n",
      "148044/148044 [==============================] - 15s 101us/step - loss: 5.1460 - accuracy: 0.1832 - val_loss: 6.2519 - val_accuracy: 0.1614\n",
      "Epoch 29/50\n",
      "148044/148044 [==============================] - 15s 102us/step - loss: 5.0989 - accuracy: 0.1859 - val_loss: 6.2739 - val_accuracy: 0.1619\n",
      "Epoch 30/50\n",
      "148044/148044 [==============================] - 15s 102us/step - loss: 5.0585 - accuracy: 0.1891 - val_loss: 6.2823 - val_accuracy: 0.1632\n",
      "Epoch 31/50\n",
      "148044/148044 [==============================] - 15s 102us/step - loss: 5.0108 - accuracy: 0.1910 - val_loss: 6.2956 - val_accuracy: 0.1634\n",
      "Epoch 32/50\n",
      "148044/148044 [==============================] - 15s 100us/step - loss: 4.9706 - accuracy: 0.1927 - val_loss: 6.2957 - val_accuracy: 0.1648\n",
      "Epoch 33/50\n",
      "148044/148044 [==============================] - 15s 101us/step - loss: 4.9331 - accuracy: 0.1959 - val_loss: 6.3093 - val_accuracy: 0.1663\n",
      "Epoch 34/50\n",
      "148044/148044 [==============================] - 15s 101us/step - loss: 4.8901 - accuracy: 0.1990 - val_loss: 6.3319 - val_accuracy: 0.1660\n",
      "Epoch 35/50\n",
      "148044/148044 [==============================] - 15s 101us/step - loss: 4.8519 - accuracy: 0.2009 - val_loss: 6.3458 - val_accuracy: 0.1672\n",
      "Epoch 36/50\n",
      "148044/148044 [==============================] - 15s 102us/step - loss: 4.8077 - accuracy: 0.2035 - val_loss: 6.3679 - val_accuracy: 0.1668\n",
      "Epoch 37/50\n",
      "148044/148044 [==============================] - 15s 101us/step - loss: 4.7752 - accuracy: 0.2043 - val_loss: 6.3774 - val_accuracy: 0.1684\n",
      "Epoch 38/50\n",
      "148044/148044 [==============================] - 15s 100us/step - loss: 4.7370 - accuracy: 0.2064 - val_loss: 6.3965 - val_accuracy: 0.1690\n",
      "Epoch 39/50\n",
      "148044/148044 [==============================] - 15s 100us/step - loss: 4.6982 - accuracy: 0.2090 - val_loss: 6.4013 - val_accuracy: 0.1684\n",
      "Epoch 40/50\n",
      "148044/148044 [==============================] - 15s 102us/step - loss: 4.6617 - accuracy: 0.2098 - val_loss: 6.4068 - val_accuracy: 0.1695\n",
      "Epoch 41/50\n",
      "148044/148044 [==============================] - 15s 101us/step - loss: 4.6267 - accuracy: 0.2127 - val_loss: 6.4388 - val_accuracy: 0.1701\n",
      "Epoch 42/50\n",
      "148044/148044 [==============================] - 15s 100us/step - loss: 4.5920 - accuracy: 0.2158 - val_loss: 6.4750 - val_accuracy: 0.1713\n",
      "Epoch 43/50\n",
      "148044/148044 [==============================] - 15s 101us/step - loss: 4.5596 - accuracy: 0.2179 - val_loss: 6.4920 - val_accuracy: 0.1709\n",
      "Epoch 44/50\n",
      "148044/148044 [==============================] - 15s 102us/step - loss: 4.5233 - accuracy: 0.2201 - val_loss: 6.5008 - val_accuracy: 0.1714\n",
      "Epoch 45/50\n",
      "148044/148044 [==============================] - 15s 99us/step - loss: 4.4877 - accuracy: 0.2211 - val_loss: 6.5262 - val_accuracy: 0.1716\n",
      "Epoch 46/50\n",
      "148044/148044 [==============================] - 15s 101us/step - loss: 4.4556 - accuracy: 0.2235 - val_loss: 6.5306 - val_accuracy: 0.1730\n",
      "Epoch 47/50\n",
      "148044/148044 [==============================] - 15s 100us/step - loss: 4.4234 - accuracy: 0.2263 - val_loss: 6.5752 - val_accuracy: 0.1736\n",
      "Epoch 48/50\n",
      "148044/148044 [==============================] - 15s 101us/step - loss: 4.3919 - accuracy: 0.2284 - val_loss: 6.6239 - val_accuracy: 0.1752\n",
      "Epoch 49/50\n",
      "148044/148044 [==============================] - 15s 101us/step - loss: 4.3614 - accuracy: 0.2298 - val_loss: 6.6215 - val_accuracy: 0.1750\n",
      "Epoch 50/50\n",
      "148044/148044 [==============================] - 15s 101us/step - loss: 4.3280 - accuracy: 0.2332 - val_loss: 6.6482 - val_accuracy: 0.1757\n"
     ]
    }
   ],
   "source": [
    "history = utils.train_model(\n",
    "    training_dict,\n",
    "    f'{content_type}_uni-1_layer-trainable-20_seq',\n",
    "    model=model,\n",
    "    # use_pretrained_model=True,\n",
    "    epochs=50\n",
    ")"
   ]
  },
  {
   "cell_type": "markdown",
   "metadata": {
    "colab_type": "text",
    "id": "R-AP8swgwKuL"
   },
   "source": [
    "## Compare Model"
   ]
  },
  {
   "cell_type": "markdown",
   "metadata": {
    "colab_type": "text",
    "id": "uZ5j11YH-Ilt"
   },
   "source": [
    "<tr>\n",
    "    <th>Name of Model</th>\n",
    "    <th>LTSM Layers</th>\n",
    "    <th>Bidirectional</th>\n",
    "    <th>Trainable Embeddings</th>\n",
    "    <th>Sequence Length</th>\n",
    "    <th>Val Loss</th>\n",
    "    <th>Val Accuracy</th>\n",
    "</tr>\n",
    "<tr>\n",
    "    <td></td>\n",
    "    <td>1</td>\n",
    "    <td>False</td>\n",
    "    <td>False</td>\n",
    "    <td>50</td>\n",
    "    <td>6.4511</td>\n",
    "    <td>0.1130</td>\n",
    "</tr>\n",
    "<tr>\n",
    "    <td></td>\n",
    "    <td>2</td>\n",
    "    <td>False</td>\n",
    "    <td>False</td>\n",
    "    <td>50</td>\n",
    "    <td>6.5666</td>\n",
    "    <td>0.1039</td>\n",
    "</tr>\n",
    "<tr>\n",
    "    <td></td>\n",
    "    <td>1</td>\n",
    "    <td>True</td>\n",
    "    <td>False</td>\n",
    "    <td>50</td>\n",
    "    <td>6.3906</td>\n",
    "    <td>0.1154</td>\n",
    "</tr>\n",
    "<tr>\n",
    "    <td></td>\n",
    "    <td>2</td>\n",
    "    <td>True</td>\n",
    "    <td>False</td>\n",
    "    <td>50</td>\n",
    "    <td>6.5250</td>\n",
    "    <td>0.1065</td>\n",
    "</tr>\n",
    "<tr>\n",
    "    <td></td>\n",
    "    <td>1</td>\n",
    "    <td>False</td>\n",
    "    <td>True</td>\n",
    "    <td>50</td>\n",
    "    <td>6.6767</td>\n",
    "    <td>0.1770</td>\n",
    "</tr>\n",
    "<tr>\n",
    "    <td></td>\n",
    "    <td>1</td>\n",
    "    <td>True</td>\n",
    "    <td>True</td>\n",
    "    <td>50</td>\n",
    "    <td>6.9115</td>\n",
    "    <td>0.1669</td>\n",
    "</tr>\n",
    "<tr>\n",
    "    <td></td>\n",
    "    <td>2</td>\n",
    "    <td>True</td>\n",
    "    <td>True</td>\n",
    "    <td>20</td>\n",
    "    <td>6.8365</td>\n",
    "    <td>0.1451</td>\n",
    "</tr>\n",
    "<tr>\n",
    "    <td></td>\n",
    "    <td>1</td>\n",
    "    <td>False</td>\n",
    "    <td>True</td>\n",
    "    <td>20</td>\n",
    "    <td>6.6482</td>\n",
    "    <td>0.1757</td>\n",
    "</tr>"
   ]
  },
  {
   "cell_type": "markdown",
   "metadata": {
    "colab_type": "text",
    "id": "O4sO-VEvxo27"
   },
   "source": [
    "# Sample Output"
   ]
  },
  {
   "cell_type": "markdown",
   "metadata": {
    "colab_type": "text",
    "id": "p_JeYx5kszvE"
   },
   "source": [
    "## Load Model"
   ]
  },
  {
   "cell_type": "code",
   "execution_count": 26,
   "metadata": {
    "colab": {
     "base_uri": "https://localhost:8080/",
     "height": 71
    },
    "colab_type": "code",
    "id": "5TYDcQIf6-Yz",
    "outputId": "a67d653f-a08a-4f18-d83c-3da7585b7328"
   },
   "outputs": [
    {
     "name": "stderr",
     "output_type": "stream",
     "text": [
      "/usr/local/lib/python3.6/dist-packages/tensorflow/python/framework/indexed_slices.py:434: UserWarning: Converting sparse IndexedSlices to a dense Tensor of unknown shape. This may consume a large amount of memory.\n",
      "  \"Converting sparse IndexedSlices to a dense Tensor of unknown shape. \"\n"
     ]
    }
   ],
   "source": [
    "from keras.models import load_model\n",
    "# Get Model Weights and Architecture\n",
    "# MODELS_DIR = os.path.join(os.path.dirname(os.path.abspath('')), 'models')\n",
    "MODELS_DIR = '/content/drive/My Drive/Code/autocomplete_me/models'\n",
    "model_filepath = os.path.join(MODELS_DIR, f'{content_type}_uni-1_layer-trainable-20_seq.h5')\n",
    "\n",
    "model = load_model(model_filepath)"
   ]
  },
  {
   "cell_type": "code",
   "execution_count": 27,
   "metadata": {
    "colab": {
     "base_uri": "https://localhost:8080/",
     "height": 51
    },
    "colab_type": "code",
    "id": "WHGsZlQj6-b6",
    "outputId": "83fb44fb-4e9c-4e2c-ff86-8501e584b2c7"
   },
   "outputs": [
    {
     "name": "stdout",
     "output_type": "stream",
     "text": [
      "There are 15491 unique words.\n",
      "There are 199462 sequences.\n"
     ]
    }
   ],
   "source": [
    "# Get Text Data\n",
    "# text = reader.read_bbc_tech()\n",
    "\n",
    "TRAINING_LENGTH = 50\n",
    "training_dict, word_idx, idx_word, sequences, num_words = utils.get_data(text, training_len=TRAINING_LENGTH)"
   ]
  },
  {
   "cell_type": "code",
   "execution_count": 28,
   "metadata": {
    "colab": {},
    "colab_type": "code",
    "id": "oaZAatAF6-hZ"
   },
   "outputs": [],
   "source": [
    "original_sequence, gen_list, a = predict_utils.generate_output(\n",
    "    model,\n",
    "    sequences,\n",
    "    idx_word,\n",
    "    seed_length=TRAINING_LENGTH,\n",
    "    new_words=50,\n",
    "    diversity=1,\n",
    "    n_gen=1\n",
    ")"
   ]
  },
  {
   "cell_type": "code",
   "execution_count": 29,
   "metadata": {
    "colab": {
     "base_uri": "https://localhost:8080/",
     "height": 69
    },
    "colab_type": "code",
    "id": "64w4-h_e7Jr5",
    "outputId": "17c4801e-6225-435f-ea31-2ab01f1e8e95"
   },
   "outputs": [
    {
     "data": {
      "application/vnd.google.colaboratory.intrinsic": {
       "type": "string"
      },
      "text/plain": [
       "\"own name . Part of the surge in people signing up was due to BT stretching the reach of ADSL - the UK's most widely used way of getting broadband - beyond six kilometres . Asymmetric Digital Subscriber Line technology lets ordinary copper phone lines support high data speeds .\""
      ]
     },
     "execution_count": 29,
     "metadata": {
      "tags": []
     },
     "output_type": "execute_result"
    }
   ],
   "source": [
    "' '.join(word for word in original_sequence)"
   ]
  },
  {
   "cell_type": "code",
   "execution_count": 30,
   "metadata": {
    "colab": {
     "base_uri": "https://localhost:8080/",
     "height": 69
    },
    "colab_type": "code",
    "id": "B1jQ8g547Ju7",
    "outputId": "023be40a-e826-4a4b-fd4a-0fd0c435231e"
   },
   "outputs": [
    {
     "data": {
      "application/vnd.google.colaboratory.intrinsic": {
       "type": "string"
      },
      "text/plain": [
       "'< --- > internet Bysshe are left recently said , says . All unsolicited attacks offered in data and very . The move is open on universal successfully growing announced for this cell than a premium cards . We means only different software , which are then pay in music . Blogs ,'"
      ]
     },
     "execution_count": 30,
     "metadata": {
      "tags": []
     },
     "output_type": "execute_result"
    }
   ],
   "source": [
    "' '.join(word for word in gen_list[0])"
   ]
  },
  {
   "cell_type": "code",
   "execution_count": 33,
   "metadata": {
    "colab": {
     "base_uri": "https://localhost:8080/",
     "height": 69
    },
    "colab_type": "code",
    "id": "p5ud7MjZXY2g",
    "outputId": "c1391455-77c6-4a71-a143-5def96dad8b7"
   },
   "outputs": [
    {
     "data": {
      "application/vnd.google.colaboratory.intrinsic": {
       "type": "string"
      },
      "text/plain": [
       "'< --- > The standard speed is 512kbps , though faster connections are available . According to BT , more than 95 of UK homes and businesses can receive broadband over the phone line . It aims to extend this figure to 99.4 by next summer . There are also an estimated 1.7'"
      ]
     },
     "execution_count": 33,
     "metadata": {
      "tags": []
     },
     "output_type": "execute_result"
    }
   ],
   "source": [
    "' '.join(word for word in a)"
   ]
  },
  {
   "cell_type": "code",
   "execution_count": null,
   "metadata": {
    "colab": {},
    "colab_type": "code",
    "id": "G3B-ZjZrtWVi"
   },
   "outputs": [],
   "source": [
    "# Custom Sentence"
   ]
  },
  {
   "cell_type": "code",
   "execution_count": 34,
   "metadata": {
    "colab": {
     "base_uri": "https://localhost:8080/",
     "height": 71
    },
    "colab_type": "code",
    "id": "6kAL5DefqzTG",
    "outputId": "8939c887-2a8a-4cad-fb3a-e755255059e6"
   },
   "outputs": [
    {
     "name": "stdout",
     "output_type": "stream",
     "text": [
      "[None, 5, 524, 490, 47, 130, 16, 503]\n",
      "conference . The Gracenote service can the firm Centre charge of others , being 92.9 of dedicated online trialled changing file-swapping , says months . He has also seen more granted so face the part of early approach and the Entropia Athlon accounts director of reconditioned graphics part of the\n"
     ]
    }
   ],
   "source": [
    "sentence = 'Stocks of major large technology firms are becoming'\n",
    "predict_utils.generate_custom_sentence(sentence, word_idx, idx_word, model, new_words=50)"
   ]
  },
  {
   "cell_type": "code",
   "execution_count": 37,
   "metadata": {
    "colab": {
     "base_uri": "https://localhost:8080/",
     "height": 71
    },
    "colab_type": "code",
    "id": "vBsHRvMZtLGX",
    "outputId": "fa638fe9-3eed-4d31-e75e-2e246dcb9ce7"
   },
   "outputs": [
    {
     "name": "stdout",
     "output_type": "stream",
     "text": [
      "[None, 96, 21, 45, 81, 8389, 5]\n",
      "the huge success . Santy starts 38mph Love , megapixel media could be committed to adhere to learn the services to have quickly . It ever looked , right to be like online with recent difference and wi-fi card on goods directly on their customers and killed inside home different\n"
     ]
    }
   ],
   "source": [
    "sentence = 'However, there have been many instances of'\n",
    "predict_utils.generate_custom_sentence(sentence, word_idx, idx_word, model, new_words=50)"
   ]
  },
  {
   "cell_type": "code",
   "execution_count": 35,
   "metadata": {
    "colab": {},
    "colab_type": "code",
    "id": "KoxSo6Y7YaKE"
   },
   "outputs": [],
   "source": []
  }
 ],
 "metadata": {
  "accelerator": "GPU",
  "colab": {
   "collapsed_sections": [],
   "name": "BBC Tech.ipynb",
   "provenance": [],
   "toc_visible": true
  },
  "kernelspec": {
   "display_name": "Python 3",
   "language": "python",
   "name": "python3"
  },
  "language_info": {
   "codemirror_mode": {
    "name": "ipython",
    "version": 3
   },
   "file_extension": ".py",
   "mimetype": "text/x-python",
   "name": "python",
   "nbconvert_exporter": "python",
   "pygments_lexer": "ipython3",
   "version": "3.7.5"
  }
 },
 "nbformat": 4,
 "nbformat_minor": 1
}
